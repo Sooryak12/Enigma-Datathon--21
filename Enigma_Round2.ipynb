{
  "nbformat": 4,
  "nbformat_minor": 0,
  "metadata": {
    "colab": {
      "name": "Enigma_Round2.ipynb",
      "provenance": [],
      "collapsed_sections": [
        "Qa8GrQ9sz-es"
      ],
      "authorship_tag": "ABX9TyPoGJjskppKOS3FDKGeby6N",
      "include_colab_link": true
    },
    "kernelspec": {
      "name": "python3",
      "display_name": "Python 3"
    },
    "language_info": {
      "name": "python"
    },
    "accelerator": "GPU"
  },
  "cells": [
    {
      "cell_type": "markdown",
      "metadata": {
        "id": "view-in-github",
        "colab_type": "text"
      },
      "source": [
        "<a href=\"https://colab.research.google.com/github/Sooryak12/Enigma-Datathon--21/blob/main/Enigma_Round2.ipynb\" target=\"_parent\"><img src=\"https://colab.research.google.com/assets/colab-badge.svg\" alt=\"Open In Colab\"/></a>"
      ]
    },
    {
      "cell_type": "code",
      "metadata": {
        "id": "h_H3Fl79sTOs"
      },
      "source": [
        "! mkdir ~/.kaggle\n",
        "! cp kaggle.json ~/.kaggle/\n",
        "! chmod 600 ~/.kaggle/kaggle.json"
      ],
      "execution_count": null,
      "outputs": []
    },
    {
      "cell_type": "code",
      "metadata": {
        "colab": {
          "base_uri": "https://localhost:8080/"
        },
        "id": "3aSjPBxutLvp",
        "outputId": "cc63bb0b-f88d-41dc-9932-4c0b45102bab"
      },
      "source": [
        "!kaggle competitions download -c consumer-complaints"
      ],
      "execution_count": null,
      "outputs": [
        {
          "output_type": "stream",
          "text": [
            "Warning: Looks like you're using an outdated API Version, please consider updating (server 1.5.12 / client 1.5.4)\n",
            "Downloading train.csv.zip to /content\n",
            " 91% 145M/159M [00:07<00:00, 25.8MB/s]\n",
            "100% 159M/159M [00:07<00:00, 21.6MB/s]\n",
            "Downloading test.csv.zip to /content\n",
            " 81% 57.0M/70.0M [00:01<00:00, 24.1MB/s]\n",
            "100% 70.0M/70.0M [00:01<00:00, 45.3MB/s]\n",
            "Downloading SAMPLE_SUBMISSION.csv.zip to /content\n",
            "  0% 0.00/1.81M [00:00<?, ?B/s]\n",
            "100% 1.81M/1.81M [00:00<00:00, 122MB/s]\n"
          ],
          "name": "stdout"
        }
      ]
    },
    {
      "cell_type": "code",
      "metadata": {
        "colab": {
          "base_uri": "https://localhost:8080/"
        },
        "id": "_jmWrF2dtUoa",
        "outputId": "3c1cb13a-44ec-4437-d4b6-170be7d736a1"
      },
      "source": [
        "!unzip train.csv.zip\n",
        "!unzip test.csv.zip"
      ],
      "execution_count": null,
      "outputs": [
        {
          "output_type": "stream",
          "text": [
            "Archive:  train.csv.zip\n",
            "  inflating: train.csv               \n",
            "Archive:  test.csv.zip\n",
            "  inflating: test.csv                \n"
          ],
          "name": "stdout"
        }
      ]
    },
    {
      "cell_type": "code",
      "metadata": {
        "id": "CosCFeMitknE"
      },
      "source": [
        "import pandas as pd\n",
        "import numpy as np\n",
        "from tqdm import tqdm\n",
        "import matplotlib.pyplot as plt\n",
        "import seaborn as sns\n",
        "%matplotlib inline\n",
        "pd.set_option(\"display.max_columns\",99)\n",
        "from sklearn.model_selection import train_test_split"
      ],
      "execution_count": null,
      "outputs": []
    },
    {
      "cell_type": "code",
      "metadata": {
        "id": "FCrT1yduuNIF"
      },
      "source": [
        "df=pd.read_csv(\"train.csv\")#,parse_dates=[\"Date received\",'Date sent to company'])\n",
        "test=pd.read_csv(\"test.csv\")#,parse_dates=[\"Date received\",'Date sent to company'])"
      ],
      "execution_count": null,
      "outputs": []
    },
    {
      "cell_type": "code",
      "metadata": {
        "colab": {
          "base_uri": "https://localhost:8080/"
        },
        "id": "A1Igd8o-JOaN",
        "outputId": "c6bb07f3-82ed-4121-e1b9-c895e2098862"
      },
      "source": [
        "df.head(1).isnull().sum().sum()"
      ],
      "execution_count": null,
      "outputs": [
        {
          "output_type": "execute_result",
          "data": {
            "text/plain": [
              "6"
            ]
          },
          "metadata": {
            "tags": []
          },
          "execution_count": 40
        }
      ]
    },
    {
      "cell_type": "code",
      "metadata": {
        "colab": {
          "base_uri": "https://localhost:8080/"
        },
        "id": "ZAVmQLbAPBJW",
        "outputId": "3e3da4b6-7271-48e0-d0be-985dadc42eb7"
      },
      "source": [
        "len(test)"
      ],
      "execution_count": null,
      "outputs": [
        {
          "output_type": "execute_result",
          "data": {
            "text/plain": [
              "459694"
            ]
          },
          "metadata": {
            "tags": []
          },
          "execution_count": 48
        }
      ]
    },
    {
      "cell_type": "code",
      "metadata": {
        "colab": {
          "base_uri": "https://localhost:8080/"
        },
        "id": "fURzRXE7QHhV",
        "outputId": "8d40576e-4d23-449a-b097-dee062668fbc"
      },
      "source": [
        "df.columns"
      ],
      "execution_count": null,
      "outputs": [
        {
          "output_type": "execute_result",
          "data": {
            "text/plain": [
              "Index(['Unnamed: 0', 'Complaint_ID', 'Date received', 'Product', 'Sub-product',\n",
              "       'Issue', 'Sub-issue', 'Consumer complaint narrative',\n",
              "       'Company public response', 'Company', 'State', 'ZIP code', 'Tags',\n",
              "       'Consumer consent provided?', 'Submitted via', 'Date sent to company',\n",
              "       'Company response to consumer', 'Consumer disputed?',\n",
              "       'Timely response?', 'nancount'],\n",
              "      dtype='object')"
            ]
          },
          "metadata": {
            "tags": []
          },
          "execution_count": 49
        }
      ]
    },
    {
      "cell_type": "code",
      "metadata": {
        "id": "oKUWdtfXJH2d"
      },
      "source": [
        "df[\"nancount\"]=df.isnull().sum(axis=1)"
      ],
      "execution_count": null,
      "outputs": []
    },
    {
      "cell_type": "code",
      "metadata": {
        "colab": {
          "base_uri": "https://localhost:8080/",
          "height": 649
        },
        "id": "sd1x5t8ALPdE",
        "outputId": "d0e59e85-6656-4642-e307-21c38d30d174"
      },
      "source": [
        "df.head()"
      ],
      "execution_count": null,
      "outputs": [
        {
          "output_type": "execute_result",
          "data": {
            "text/html": [
              "<div>\n",
              "<style scoped>\n",
              "    .dataframe tbody tr th:only-of-type {\n",
              "        vertical-align: middle;\n",
              "    }\n",
              "\n",
              "    .dataframe tbody tr th {\n",
              "        vertical-align: top;\n",
              "    }\n",
              "\n",
              "    .dataframe thead th {\n",
              "        text-align: right;\n",
              "    }\n",
              "</style>\n",
              "<table border=\"1\" class=\"dataframe\">\n",
              "  <thead>\n",
              "    <tr style=\"text-align: right;\">\n",
              "      <th></th>\n",
              "      <th>Unnamed: 0</th>\n",
              "      <th>Complaint_ID</th>\n",
              "      <th>Date received</th>\n",
              "      <th>Product</th>\n",
              "      <th>Sub-product</th>\n",
              "      <th>Issue</th>\n",
              "      <th>Sub-issue</th>\n",
              "      <th>Consumer complaint narrative</th>\n",
              "      <th>Company public response</th>\n",
              "      <th>Company</th>\n",
              "      <th>State</th>\n",
              "      <th>ZIP code</th>\n",
              "      <th>Tags</th>\n",
              "      <th>Consumer consent provided?</th>\n",
              "      <th>Submitted via</th>\n",
              "      <th>Date sent to company</th>\n",
              "      <th>Company response to consumer</th>\n",
              "      <th>Consumer disputed?</th>\n",
              "      <th>Timely response?</th>\n",
              "      <th>nancount</th>\n",
              "    </tr>\n",
              "  </thead>\n",
              "  <tbody>\n",
              "    <tr>\n",
              "      <th>0</th>\n",
              "      <td>0</td>\n",
              "      <td>2535701</td>\n",
              "      <td>6/8/2017</td>\n",
              "      <td>Mortgage</td>\n",
              "      <td>Conventional home mortgage</td>\n",
              "      <td>Struggling to pay mortgage</td>\n",
              "      <td>NaN</td>\n",
              "      <td>NaN</td>\n",
              "      <td>NaN</td>\n",
              "      <td>Caliber Home Loans, Inc.</td>\n",
              "      <td>FL</td>\n",
              "      <td>34744</td>\n",
              "      <td>NaN</td>\n",
              "      <td>NaN</td>\n",
              "      <td>Fax</td>\n",
              "      <td>6/12/2017</td>\n",
              "      <td>Closed with explanation</td>\n",
              "      <td>NaN</td>\n",
              "      <td>Yes</td>\n",
              "      <td>6</td>\n",
              "    </tr>\n",
              "    <tr>\n",
              "      <th>1</th>\n",
              "      <td>1</td>\n",
              "      <td>3314889</td>\n",
              "      <td>7/22/2019</td>\n",
              "      <td>Credit card or prepaid card</td>\n",
              "      <td>General-purpose credit card or charge card</td>\n",
              "      <td>Problem with a purchase shown on your statement</td>\n",
              "      <td>Credit card company isn't resolving a dispute ...</td>\n",
              "      <td>On XX/XX/2019 all of my credit and debit cards...</td>\n",
              "      <td>Company has responded to the consumer and the ...</td>\n",
              "      <td>WELLS FARGO &amp; COMPANY</td>\n",
              "      <td>CA</td>\n",
              "      <td>900XX</td>\n",
              "      <td>NaN</td>\n",
              "      <td>Consent provided</td>\n",
              "      <td>Web</td>\n",
              "      <td>7/22/2019</td>\n",
              "      <td>Closed with explanation</td>\n",
              "      <td>NaN</td>\n",
              "      <td>Yes</td>\n",
              "      <td>2</td>\n",
              "    </tr>\n",
              "    <tr>\n",
              "      <th>2</th>\n",
              "      <td>2</td>\n",
              "      <td>3612478</td>\n",
              "      <td>4/18/2020</td>\n",
              "      <td>Credit reporting, credit repair services, or o...</td>\n",
              "      <td>Credit reporting</td>\n",
              "      <td>Incorrect information on your report</td>\n",
              "      <td>Information belongs to someone else</td>\n",
              "      <td>I was made aware of a negative account and inq...</td>\n",
              "      <td>NaN</td>\n",
              "      <td>EQUIFAX, INC.</td>\n",
              "      <td>CA</td>\n",
              "      <td>945XX</td>\n",
              "      <td>NaN</td>\n",
              "      <td>Consent provided</td>\n",
              "      <td>Web</td>\n",
              "      <td>4/18/2020</td>\n",
              "      <td>Closed with explanation</td>\n",
              "      <td>NaN</td>\n",
              "      <td>Yes</td>\n",
              "      <td>3</td>\n",
              "    </tr>\n",
              "    <tr>\n",
              "      <th>3</th>\n",
              "      <td>3</td>\n",
              "      <td>2069704</td>\n",
              "      <td>8/18/2016</td>\n",
              "      <td>Bank account or service</td>\n",
              "      <td>Checking account</td>\n",
              "      <td>Deposits and withdrawals</td>\n",
              "      <td>NaN</td>\n",
              "      <td>NaN</td>\n",
              "      <td>Company has responded to the consumer and the ...</td>\n",
              "      <td>BANK OF AMERICA, NATIONAL ASSOCIATION</td>\n",
              "      <td>TX</td>\n",
              "      <td>77014</td>\n",
              "      <td>NaN</td>\n",
              "      <td>NaN</td>\n",
              "      <td>Phone</td>\n",
              "      <td>8/19/2016</td>\n",
              "      <td>Closed with monetary relief</td>\n",
              "      <td>No</td>\n",
              "      <td>Yes</td>\n",
              "      <td>4</td>\n",
              "    </tr>\n",
              "    <tr>\n",
              "      <th>4</th>\n",
              "      <td>4</td>\n",
              "      <td>3354927</td>\n",
              "      <td>8/27/2019</td>\n",
              "      <td>Debt collection</td>\n",
              "      <td>Auto debt</td>\n",
              "      <td>Took or threatened to take negative or legal a...</td>\n",
              "      <td>Threatened or suggested your credit would be d...</td>\n",
              "      <td>NaN</td>\n",
              "      <td>NaN</td>\n",
              "      <td>Bridgecrest Acceptance Corporation</td>\n",
              "      <td>PA</td>\n",
              "      <td>19143</td>\n",
              "      <td>Servicemember</td>\n",
              "      <td>Consent not provided</td>\n",
              "      <td>Web</td>\n",
              "      <td>8/27/2019</td>\n",
              "      <td>Closed with explanation</td>\n",
              "      <td>NaN</td>\n",
              "      <td>Yes</td>\n",
              "      <td>3</td>\n",
              "    </tr>\n",
              "  </tbody>\n",
              "</table>\n",
              "</div>"
            ],
            "text/plain": [
              "   Unnamed: 0  Complaint_ID Date received  \\\n",
              "0           0       2535701      6/8/2017   \n",
              "1           1       3314889     7/22/2019   \n",
              "2           2       3612478     4/18/2020   \n",
              "3           3       2069704     8/18/2016   \n",
              "4           4       3354927     8/27/2019   \n",
              "\n",
              "                                             Product  \\\n",
              "0                                           Mortgage   \n",
              "1                        Credit card or prepaid card   \n",
              "2  Credit reporting, credit repair services, or o...   \n",
              "3                            Bank account or service   \n",
              "4                                    Debt collection   \n",
              "\n",
              "                                  Sub-product  \\\n",
              "0                  Conventional home mortgage   \n",
              "1  General-purpose credit card or charge card   \n",
              "2                            Credit reporting   \n",
              "3                            Checking account   \n",
              "4                                   Auto debt   \n",
              "\n",
              "                                               Issue  \\\n",
              "0                         Struggling to pay mortgage   \n",
              "1    Problem with a purchase shown on your statement   \n",
              "2               Incorrect information on your report   \n",
              "3                           Deposits and withdrawals   \n",
              "4  Took or threatened to take negative or legal a...   \n",
              "\n",
              "                                           Sub-issue  \\\n",
              "0                                                NaN   \n",
              "1  Credit card company isn't resolving a dispute ...   \n",
              "2                Information belongs to someone else   \n",
              "3                                                NaN   \n",
              "4  Threatened or suggested your credit would be d...   \n",
              "\n",
              "                        Consumer complaint narrative  \\\n",
              "0                                                NaN   \n",
              "1  On XX/XX/2019 all of my credit and debit cards...   \n",
              "2  I was made aware of a negative account and inq...   \n",
              "3                                                NaN   \n",
              "4                                                NaN   \n",
              "\n",
              "                             Company public response  \\\n",
              "0                                                NaN   \n",
              "1  Company has responded to the consumer and the ...   \n",
              "2                                                NaN   \n",
              "3  Company has responded to the consumer and the ...   \n",
              "4                                                NaN   \n",
              "\n",
              "                                 Company State ZIP code           Tags  \\\n",
              "0               Caliber Home Loans, Inc.    FL    34744            NaN   \n",
              "1                  WELLS FARGO & COMPANY    CA    900XX            NaN   \n",
              "2                          EQUIFAX, INC.    CA    945XX            NaN   \n",
              "3  BANK OF AMERICA, NATIONAL ASSOCIATION    TX    77014            NaN   \n",
              "4     Bridgecrest Acceptance Corporation    PA    19143  Servicemember   \n",
              "\n",
              "  Consumer consent provided? Submitted via Date sent to company  \\\n",
              "0                        NaN           Fax            6/12/2017   \n",
              "1           Consent provided           Web            7/22/2019   \n",
              "2           Consent provided           Web            4/18/2020   \n",
              "3                        NaN         Phone            8/19/2016   \n",
              "4       Consent not provided           Web            8/27/2019   \n",
              "\n",
              "  Company response to consumer Consumer disputed? Timely response?  nancount  \n",
              "0      Closed with explanation                NaN              Yes         6  \n",
              "1      Closed with explanation                NaN              Yes         2  \n",
              "2      Closed with explanation                NaN              Yes         3  \n",
              "3  Closed with monetary relief                 No              Yes         4  \n",
              "4      Closed with explanation                NaN              Yes         3  "
            ]
          },
          "metadata": {
            "tags": []
          },
          "execution_count": 47
        }
      ]
    },
    {
      "cell_type": "code",
      "metadata": {
        "colab": {
          "base_uri": "https://localhost:8080/"
        },
        "id": "BqdRtMT4LCrs",
        "outputId": "f36af8bb-d497-4682-a7b4-913c0193c543"
      },
      "source": [
        "df[\"nancount\"].value_counts()"
      ],
      "execution_count": null,
      "outputs": [
        {
          "output_type": "execute_result",
          "data": {
            "text/plain": [
              "3    341330\n",
              "4    283678\n",
              "5    211973\n",
              "2    140946\n",
              "6     42696\n",
              "1     18146\n",
              "7      7719\n",
              "8      1926\n",
              "0       161\n",
              "Name: nancount, dtype: int64"
            ]
          },
          "metadata": {
            "tags": []
          },
          "execution_count": 45
        }
      ]
    },
    {
      "cell_type": "code",
      "metadata": {
        "colab": {
          "base_uri": "https://localhost:8080/",
          "height": 649
        },
        "id": "4IqtAXQ7uSek",
        "outputId": "e41b6e6b-5a61-49d7-a25c-d1d76b15a922"
      },
      "source": [
        "df.head()"
      ],
      "execution_count": null,
      "outputs": [
        {
          "output_type": "execute_result",
          "data": {
            "text/html": [
              "<div>\n",
              "<style scoped>\n",
              "    .dataframe tbody tr th:only-of-type {\n",
              "        vertical-align: middle;\n",
              "    }\n",
              "\n",
              "    .dataframe tbody tr th {\n",
              "        vertical-align: top;\n",
              "    }\n",
              "\n",
              "    .dataframe thead th {\n",
              "        text-align: right;\n",
              "    }\n",
              "</style>\n",
              "<table border=\"1\" class=\"dataframe\">\n",
              "  <thead>\n",
              "    <tr style=\"text-align: right;\">\n",
              "      <th></th>\n",
              "      <th>Unnamed: 0</th>\n",
              "      <th>Complaint_ID</th>\n",
              "      <th>Date received</th>\n",
              "      <th>Product</th>\n",
              "      <th>Sub-product</th>\n",
              "      <th>Issue</th>\n",
              "      <th>Sub-issue</th>\n",
              "      <th>Consumer complaint narrative</th>\n",
              "      <th>Company public response</th>\n",
              "      <th>Company</th>\n",
              "      <th>State</th>\n",
              "      <th>ZIP code</th>\n",
              "      <th>Tags</th>\n",
              "      <th>Consumer consent provided?</th>\n",
              "      <th>Submitted via</th>\n",
              "      <th>Date sent to company</th>\n",
              "      <th>Company response to consumer</th>\n",
              "      <th>Consumer disputed?</th>\n",
              "      <th>Timely response?</th>\n",
              "    </tr>\n",
              "  </thead>\n",
              "  <tbody>\n",
              "    <tr>\n",
              "      <th>0</th>\n",
              "      <td>0</td>\n",
              "      <td>2535701</td>\n",
              "      <td>6/8/2017</td>\n",
              "      <td>Mortgage</td>\n",
              "      <td>Conventional home mortgage</td>\n",
              "      <td>Struggling to pay mortgage</td>\n",
              "      <td>NaN</td>\n",
              "      <td>NaN</td>\n",
              "      <td>NaN</td>\n",
              "      <td>Caliber Home Loans, Inc.</td>\n",
              "      <td>FL</td>\n",
              "      <td>34744</td>\n",
              "      <td>NaN</td>\n",
              "      <td>NaN</td>\n",
              "      <td>Fax</td>\n",
              "      <td>6/12/2017</td>\n",
              "      <td>Closed with explanation</td>\n",
              "      <td>NaN</td>\n",
              "      <td>Yes</td>\n",
              "    </tr>\n",
              "    <tr>\n",
              "      <th>1</th>\n",
              "      <td>1</td>\n",
              "      <td>3314889</td>\n",
              "      <td>7/22/2019</td>\n",
              "      <td>Credit card or prepaid card</td>\n",
              "      <td>General-purpose credit card or charge card</td>\n",
              "      <td>Problem with a purchase shown on your statement</td>\n",
              "      <td>Credit card company isn't resolving a dispute ...</td>\n",
              "      <td>On XX/XX/2019 all of my credit and debit cards...</td>\n",
              "      <td>Company has responded to the consumer and the ...</td>\n",
              "      <td>WELLS FARGO &amp; COMPANY</td>\n",
              "      <td>CA</td>\n",
              "      <td>900XX</td>\n",
              "      <td>NaN</td>\n",
              "      <td>Consent provided</td>\n",
              "      <td>Web</td>\n",
              "      <td>7/22/2019</td>\n",
              "      <td>Closed with explanation</td>\n",
              "      <td>NaN</td>\n",
              "      <td>Yes</td>\n",
              "    </tr>\n",
              "    <tr>\n",
              "      <th>2</th>\n",
              "      <td>2</td>\n",
              "      <td>3612478</td>\n",
              "      <td>4/18/2020</td>\n",
              "      <td>Credit reporting, credit repair services, or o...</td>\n",
              "      <td>Credit reporting</td>\n",
              "      <td>Incorrect information on your report</td>\n",
              "      <td>Information belongs to someone else</td>\n",
              "      <td>I was made aware of a negative account and inq...</td>\n",
              "      <td>NaN</td>\n",
              "      <td>EQUIFAX, INC.</td>\n",
              "      <td>CA</td>\n",
              "      <td>945XX</td>\n",
              "      <td>NaN</td>\n",
              "      <td>Consent provided</td>\n",
              "      <td>Web</td>\n",
              "      <td>4/18/2020</td>\n",
              "      <td>Closed with explanation</td>\n",
              "      <td>NaN</td>\n",
              "      <td>Yes</td>\n",
              "    </tr>\n",
              "    <tr>\n",
              "      <th>3</th>\n",
              "      <td>3</td>\n",
              "      <td>2069704</td>\n",
              "      <td>8/18/2016</td>\n",
              "      <td>Bank account or service</td>\n",
              "      <td>Checking account</td>\n",
              "      <td>Deposits and withdrawals</td>\n",
              "      <td>NaN</td>\n",
              "      <td>NaN</td>\n",
              "      <td>Company has responded to the consumer and the ...</td>\n",
              "      <td>BANK OF AMERICA, NATIONAL ASSOCIATION</td>\n",
              "      <td>TX</td>\n",
              "      <td>77014</td>\n",
              "      <td>NaN</td>\n",
              "      <td>NaN</td>\n",
              "      <td>Phone</td>\n",
              "      <td>8/19/2016</td>\n",
              "      <td>Closed with monetary relief</td>\n",
              "      <td>No</td>\n",
              "      <td>Yes</td>\n",
              "    </tr>\n",
              "    <tr>\n",
              "      <th>4</th>\n",
              "      <td>4</td>\n",
              "      <td>3354927</td>\n",
              "      <td>8/27/2019</td>\n",
              "      <td>Debt collection</td>\n",
              "      <td>Auto debt</td>\n",
              "      <td>Took or threatened to take negative or legal a...</td>\n",
              "      <td>Threatened or suggested your credit would be d...</td>\n",
              "      <td>NaN</td>\n",
              "      <td>NaN</td>\n",
              "      <td>Bridgecrest Acceptance Corporation</td>\n",
              "      <td>PA</td>\n",
              "      <td>19143</td>\n",
              "      <td>Servicemember</td>\n",
              "      <td>Consent not provided</td>\n",
              "      <td>Web</td>\n",
              "      <td>8/27/2019</td>\n",
              "      <td>Closed with explanation</td>\n",
              "      <td>NaN</td>\n",
              "      <td>Yes</td>\n",
              "    </tr>\n",
              "  </tbody>\n",
              "</table>\n",
              "</div>"
            ],
            "text/plain": [
              "   Unnamed: 0  Complaint_ID Date received  \\\n",
              "0           0       2535701      6/8/2017   \n",
              "1           1       3314889     7/22/2019   \n",
              "2           2       3612478     4/18/2020   \n",
              "3           3       2069704     8/18/2016   \n",
              "4           4       3354927     8/27/2019   \n",
              "\n",
              "                                             Product  \\\n",
              "0                                           Mortgage   \n",
              "1                        Credit card or prepaid card   \n",
              "2  Credit reporting, credit repair services, or o...   \n",
              "3                            Bank account or service   \n",
              "4                                    Debt collection   \n",
              "\n",
              "                                  Sub-product  \\\n",
              "0                  Conventional home mortgage   \n",
              "1  General-purpose credit card or charge card   \n",
              "2                            Credit reporting   \n",
              "3                            Checking account   \n",
              "4                                   Auto debt   \n",
              "\n",
              "                                               Issue  \\\n",
              "0                         Struggling to pay mortgage   \n",
              "1    Problem with a purchase shown on your statement   \n",
              "2               Incorrect information on your report   \n",
              "3                           Deposits and withdrawals   \n",
              "4  Took or threatened to take negative or legal a...   \n",
              "\n",
              "                                           Sub-issue  \\\n",
              "0                                                NaN   \n",
              "1  Credit card company isn't resolving a dispute ...   \n",
              "2                Information belongs to someone else   \n",
              "3                                                NaN   \n",
              "4  Threatened or suggested your credit would be d...   \n",
              "\n",
              "                        Consumer complaint narrative  \\\n",
              "0                                                NaN   \n",
              "1  On XX/XX/2019 all of my credit and debit cards...   \n",
              "2  I was made aware of a negative account and inq...   \n",
              "3                                                NaN   \n",
              "4                                                NaN   \n",
              "\n",
              "                             Company public response  \\\n",
              "0                                                NaN   \n",
              "1  Company has responded to the consumer and the ...   \n",
              "2                                                NaN   \n",
              "3  Company has responded to the consumer and the ...   \n",
              "4                                                NaN   \n",
              "\n",
              "                                 Company State ZIP code           Tags  \\\n",
              "0               Caliber Home Loans, Inc.    FL    34744            NaN   \n",
              "1                  WELLS FARGO & COMPANY    CA    900XX            NaN   \n",
              "2                          EQUIFAX, INC.    CA    945XX            NaN   \n",
              "3  BANK OF AMERICA, NATIONAL ASSOCIATION    TX    77014            NaN   \n",
              "4     Bridgecrest Acceptance Corporation    PA    19143  Servicemember   \n",
              "\n",
              "  Consumer consent provided? Submitted via Date sent to company  \\\n",
              "0                        NaN           Fax            6/12/2017   \n",
              "1           Consent provided           Web            7/22/2019   \n",
              "2           Consent provided           Web            4/18/2020   \n",
              "3                        NaN         Phone            8/19/2016   \n",
              "4       Consent not provided           Web            8/27/2019   \n",
              "\n",
              "  Company response to consumer Consumer disputed? Timely response?  \n",
              "0      Closed with explanation                NaN              Yes  \n",
              "1      Closed with explanation                NaN              Yes  \n",
              "2      Closed with explanation                NaN              Yes  \n",
              "3  Closed with monetary relief                 No              Yes  \n",
              "4      Closed with explanation                NaN              Yes  "
            ]
          },
          "metadata": {
            "tags": []
          },
          "execution_count": 42
        }
      ]
    },
    {
      "cell_type": "code",
      "metadata": {
        "colab": {
          "base_uri": "https://localhost:8080/"
        },
        "id": "-ibZraEKvAwN",
        "outputId": "c432e6b6-ef12-4225-dfae-1169f728f1be"
      },
      "source": [
        "df.columns"
      ],
      "execution_count": null,
      "outputs": [
        {
          "output_type": "execute_result",
          "data": {
            "text/plain": [
              "Index(['Unnamed: 0', 'Complaint_ID', 'Date received', 'Product', 'Sub-product',\n",
              "       'Issue', 'Sub-issue', 'Consumer complaint narrative',\n",
              "       'Company public response', 'Company', 'State', 'ZIP code', 'Tags',\n",
              "       'Consumer consent provided?', 'Submitted via', 'Date sent to company',\n",
              "       'Company response to consumer', 'Consumer disputed?',\n",
              "       'Timely response?'],\n",
              "      dtype='object')"
            ]
          },
          "metadata": {
            "tags": []
          },
          "execution_count": 10
        }
      ]
    },
    {
      "cell_type": "code",
      "metadata": {
        "colab": {
          "base_uri": "https://localhost:8080/"
        },
        "id": "C5VeagWSuZ40",
        "outputId": "83e4136e-74ee-4ee7-d15b-2b4f401cc500"
      },
      "source": [
        "df[\"Timely response?\"].value_counts()"
      ],
      "execution_count": null,
      "outputs": [
        {
          "output_type": "execute_result",
          "data": {
            "text/plain": [
              "Yes    1026569\n",
              "No       22006\n",
              "Name: Timely response?, dtype: int64"
            ]
          },
          "metadata": {
            "tags": []
          },
          "execution_count": 11
        }
      ]
    },
    {
      "cell_type": "code",
      "metadata": {
        "id": "i9_wbqHSvFRi"
      },
      "source": [
        "# 2 percent of the data is No\n",
        "\n",
        "#Ultra Skewed Data \n",
        "\n",
        "## Two Options:\n",
        "    ## UnderSampling \n",
        "    ##Smote -(But I dont think this will work)"
      ],
      "execution_count": null,
      "outputs": []
    },
    {
      "cell_type": "code",
      "metadata": {
        "colab": {
          "base_uri": "https://localhost:8080/"
        },
        "id": "pwnoUITQvQY1",
        "outputId": "e5d2391b-c063-4d61-cf16-aa8e6ff833cd"
      },
      "source": [
        "df.isnull().sum()"
      ],
      "execution_count": null,
      "outputs": [
        {
          "output_type": "execute_result",
          "data": {
            "text/plain": [
              "Unnamed: 0                           0\n",
              "Complaint_ID                         0\n",
              "Date received                        0\n",
              "Product                              0\n",
              "Sub-product                     100901\n",
              "Issue                                0\n",
              "Sub-issue                       282519\n",
              "Consumer complaint narrative    737766\n",
              "Company public response         601927\n",
              "Company                              0\n",
              "State                            21018\n",
              "ZIP code                         93734\n",
              "Tags                            919298\n",
              "Consumer consent provided?      367626\n",
              "Submitted via                        0\n",
              "Date sent to company                 0\n",
              "Company response to consumer         1\n",
              "Consumer disputed?              719432\n",
              "Timely response?                     0\n",
              "dtype: int64"
            ]
          },
          "metadata": {
            "tags": []
          },
          "execution_count": 13
        }
      ]
    },
    {
      "cell_type": "code",
      "metadata": {
        "colab": {
          "base_uri": "https://localhost:8080/"
        },
        "id": "qiwINMX9vdZu",
        "outputId": "97f75539-66db-4be8-a62a-5ef2b62d332f"
      },
      "source": [
        "### Can drop this    but lets wait\n",
        "df[\"Unnamed: 0\"]"
      ],
      "execution_count": null,
      "outputs": [
        {
          "output_type": "execute_result",
          "data": {
            "text/plain": [
              "0                0\n",
              "1                1\n",
              "2                2\n",
              "3                3\n",
              "4                4\n",
              "            ...   \n",
              "1048570    1048570\n",
              "1048571    1048571\n",
              "1048572    1048572\n",
              "1048573    1048573\n",
              "1048574    1048574\n",
              "Name: Unnamed: 0, Length: 1048575, dtype: int64"
            ]
          },
          "metadata": {
            "tags": []
          },
          "execution_count": 18
        }
      ]
    },
    {
      "cell_type": "code",
      "metadata": {
        "id": "K52YL9s_vlT4"
      },
      "source": [
        "## Mudunjavarayum Categorize then Go for Tfidf and Bert"
      ],
      "execution_count": null,
      "outputs": []
    },
    {
      "cell_type": "code",
      "metadata": {
        "colab": {
          "base_uri": "https://localhost:8080/"
        },
        "id": "5xu3_bKlv785",
        "outputId": "5c08cc4b-1e5e-4905-9adf-ae49de546528"
      },
      "source": [
        "test.isnull().sum()"
      ],
      "execution_count": null,
      "outputs": [
        {
          "output_type": "execute_result",
          "data": {
            "text/plain": [
              "Unnamed: 0                           0\n",
              "Complaint_ID                         0\n",
              "Date received                        0\n",
              "Product                              0\n",
              "Sub-product                      44343\n",
              "Issue                                0\n",
              "Sub-issue                       123619\n",
              "Consumer complaint narrative    323501\n",
              "Company public response         263701\n",
              "Company                              0\n",
              "State                             9162\n",
              "ZIP code                         40973\n",
              "Tags                            402957\n",
              "Consumer consent provided?      161247\n",
              "Submitted via                        0\n",
              "Date sent to company                 0\n",
              "Company response to consumer         1\n",
              "Consumer disputed?              315638\n",
              "dtype: int64"
            ]
          },
          "metadata": {
            "tags": []
          },
          "execution_count": 14
        }
      ]
    },
    {
      "cell_type": "code",
      "metadata": {
        "colab": {
          "base_uri": "https://localhost:8080/"
        },
        "id": "XEFMvDqSwpfi",
        "outputId": "2e2bb19e-bc4b-49e6-f641-485f5b015953"
      },
      "source": [
        "df.columns"
      ],
      "execution_count": null,
      "outputs": [
        {
          "output_type": "execute_result",
          "data": {
            "text/plain": [
              "Index(['Unnamed: 0', 'Complaint_ID', 'Date received', 'Product', 'Sub-product',\n",
              "       'Issue', 'Sub-issue', 'Consumer complaint narrative',\n",
              "       'Company public response', 'Company', 'State', 'ZIP code', 'Tags',\n",
              "       'Consumer consent provided?', 'Submitted via', 'Date sent to company',\n",
              "       'Company response to consumer', 'Consumer disputed?',\n",
              "       'Timely response?'],\n",
              "      dtype='object')"
            ]
          },
          "metadata": {
            "tags": []
          },
          "execution_count": 15
        }
      ]
    },
    {
      "cell_type": "code",
      "metadata": {
        "id": "Z9KssBQawRzL"
      },
      "source": [
        "test.drop(\"Unnamed: 0\",axis=1,inplace=True)\n",
        "df.drop(\"Unnamed: 0\",axis=1,inplace=True)"
      ],
      "execution_count": null,
      "outputs": []
    },
    {
      "cell_type": "code",
      "metadata": {
        "id": "AVIhjBzUwWz4"
      },
      "source": [
        "test[\"test\"]=1\n",
        "df[\"test\"]=0"
      ],
      "execution_count": null,
      "outputs": []
    },
    {
      "cell_type": "code",
      "metadata": {
        "id": "_e7ZYYHAw_pL"
      },
      "source": [
        "total=pd.concat([df,test],axis=0)"
      ],
      "execution_count": null,
      "outputs": []
    },
    {
      "cell_type": "code",
      "metadata": {
        "id": "cwonfQiMxLge"
      },
      "source": [
        "#total[\"nancount\"]=0\n",
        "#for i in tqdm(range(len(total))) :\n",
        "    #    total.loc[i,\"nancount\"]= total.iloc[i].isnull().sum()"
      ],
      "execution_count": null,
      "outputs": []
    },
    {
      "cell_type": "code",
      "metadata": {
        "id": "6v020U5Jy5ow"
      },
      "source": [
        "df"
      ],
      "execution_count": null,
      "outputs": []
    },
    {
      "cell_type": "code",
      "metadata": {
        "id": "kCtc90Lqx0WP"
      },
      "source": [
        "df[\"Product\"].value_counts()"
      ],
      "execution_count": null,
      "outputs": []
    },
    {
      "cell_type": "code",
      "metadata": {
        "id": "hgX3fPrqzkYj"
      },
      "source": [
        "test[\"Product\"].value_counts()"
      ],
      "execution_count": null,
      "outputs": []
    },
    {
      "cell_type": "code",
      "metadata": {
        "colab": {
          "base_uri": "https://localhost:8080/"
        },
        "id": "GhZcjozxyysc",
        "outputId": "b4afff11-2015-4d02-ee27-ba13c6627ecd"
      },
      "source": [
        "df[\"State\"].value_counts()"
      ],
      "execution_count": null,
      "outputs": [
        {
          "output_type": "execute_result",
          "data": {
            "text/plain": [
              "CA    135483\n",
              "FL    117428\n",
              "TX     97339\n",
              "NY     71843\n",
              "GA     58820\n",
              "       ...  \n",
              "AA        31\n",
              "FM        31\n",
              "AS        19\n",
              "MP        16\n",
              "MH        12\n",
              "Name: State, Length: 62, dtype: int64"
            ]
          },
          "metadata": {
            "tags": []
          },
          "execution_count": 33
        }
      ]
    },
    {
      "cell_type": "code",
      "metadata": {
        "colab": {
          "base_uri": "https://localhost:8080/"
        },
        "id": "DYw48kLnzHNE",
        "outputId": "4037c2b9-9b02-45b3-8a53-a2da7a9ce4fd"
      },
      "source": [
        "test[\"State\"].value_counts()"
      ],
      "execution_count": null,
      "outputs": [
        {
          "output_type": "execute_result",
          "data": {
            "text/plain": [
              "CA    59342\n",
              "FL    51560\n",
              "TX    43174\n",
              "NY    31453\n",
              "GA    25951\n",
              "      ...  \n",
              "FM        8\n",
              "AA        8\n",
              "MP        6\n",
              "AS        5\n",
              "PW        1\n",
              "Name: State, Length: 63, dtype: int64"
            ]
          },
          "metadata": {
            "tags": []
          },
          "execution_count": 34
        }
      ]
    },
    {
      "cell_type": "code",
      "metadata": {
        "colab": {
          "base_uri": "https://localhost:8080/"
        },
        "id": "LdzlEv9PzMyw",
        "outputId": "806fab8c-36e5-4685-ef7d-f3db787af010"
      },
      "source": [
        "len(test)"
      ],
      "execution_count": null,
      "outputs": [
        {
          "output_type": "execute_result",
          "data": {
            "text/plain": [
              "459694"
            ]
          },
          "metadata": {
            "tags": []
          },
          "execution_count": 37
        }
      ]
    },
    {
      "cell_type": "code",
      "metadata": {
        "id": "aGD3KZ1y0TuM"
      },
      "source": [
        "labelmap={\"Yes\":1,\"No\":0}\n",
        "df[\"Timely response?\"]=df[\"Timely response?\"].map(labelmap)\n",
        "total[\"Timely response?\"]=total[\"Timely response?\"].map(labelmap)"
      ],
      "execution_count": null,
      "outputs": []
    },
    {
      "cell_type": "markdown",
      "metadata": {
        "id": "Qa8GrQ9sz-es"
      },
      "source": [
        "## Trying out LightGBM"
      ]
    },
    {
      "cell_type": "code",
      "metadata": {
        "id": "qqsH_-wnzyV1"
      },
      "source": [
        "from lightgbm import LGBMClassifier\n",
        "from xgboost import XGBClassifier"
      ],
      "execution_count": null,
      "outputs": []
    },
    {
      "cell_type": "code",
      "metadata": {
        "id": "jN8nGV5l0Gdd"
      },
      "source": [
        "ones=df[df[\"Timely response?\"]==\"Yes\"].sample(100000).copy()"
      ],
      "execution_count": null,
      "outputs": []
    },
    {
      "cell_type": "code",
      "metadata": {
        "id": "RoLciq3Q0HNj"
      },
      "source": [
        "udf=pd.concat([ones,df[df[\"Timely response?\"]==\"No\"]],axis=0).copy()"
      ],
      "execution_count": null,
      "outputs": []
    },
    {
      "cell_type": "code",
      "metadata": {
        "colab": {
          "base_uri": "https://localhost:8080/"
        },
        "id": "kRx9iKRq1Azf",
        "outputId": "977dbd43-ae06-4549-cc9d-36a6b0a225d9"
      },
      "source": [
        "df.columns"
      ],
      "execution_count": null,
      "outputs": [
        {
          "output_type": "execute_result",
          "data": {
            "text/plain": [
              "Index(['Unnamed: 0', 'Complaint_ID', 'Date received', 'Product', 'Sub-product',\n",
              "       'Issue', 'Sub-issue', 'Consumer complaint narrative',\n",
              "       'Company public response', 'Company', 'State', 'ZIP code', 'Tags',\n",
              "       'Consumer consent provided?', 'Submitted via', 'Date sent to company',\n",
              "       'Company response to consumer', 'Consumer disputed?',\n",
              "       'Timely response?', 'test'],\n",
              "      dtype='object')"
            ]
          },
          "metadata": {
            "tags": []
          },
          "execution_count": 47
        }
      ]
    },
    {
      "cell_type": "code",
      "metadata": {
        "id": "gtA538Fp1C_j"
      },
      "source": [
        "X=df[['Complaint_ID', 'Product', 'Sub-product',\n",
        "       'Issue', 'Sub-issue', 'Consumer complaint narrative',\n",
        "       'Company public response', 'Company', 'State', 'ZIP code', 'Tags',\n",
        "       'Consumer consent provided?', 'Submitted via',\n",
        "       'Company response to consumer', 'Consumer disputed?']]\n",
        "y=df[\"Timely response?\"]"
      ],
      "execution_count": null,
      "outputs": []
    },
    {
      "cell_type": "code",
      "metadata": {
        "id": "LvPahbGg0t5J"
      },
      "source": [
        " X_train, X_test, y_train, y_test = train_test_split( X, y, test_size=0.33, random_state=42,stratify=y)"
      ],
      "execution_count": null,
      "outputs": []
    },
    {
      "cell_type": "code",
      "metadata": {
        "id": "0CUeXBDa1cGL"
      },
      "source": [
        "lgb=LGBMClassifier(class_weight='balanced')\n",
        "xgb=XGBClassifier()"
      ],
      "execution_count": null,
      "outputs": []
    },
    {
      "cell_type": "code",
      "metadata": {
        "id": "YCuQOy7K1u6s"
      },
      "source": [
        "#xgb.fit(X_train,y_train)\n",
        "# DataFrame.dtypes for data must be int, float or bool.\n",
        " #               Did not expect the data types in fields Product, Sub-product, Issue, Sub-issue, Consumer complaint narrative, Company public response, Company, State, ZIP code, Tags, Consumer consent provided?, Submitted via, Company response to consumer, Consumer disputed?"
      ],
      "execution_count": null,
      "outputs": []
    },
    {
      "cell_type": "code",
      "metadata": {
        "id": "-ugMKu3Q2kln"
      },
      "source": [
        "#Have to Label Encode all the Text Columns"
      ],
      "execution_count": null,
      "outputs": []
    },
    {
      "cell_type": "markdown",
      "metadata": {
        "id": "Jg3l-s-I3hzT"
      },
      "source": [
        "## Continuation"
      ]
    },
    {
      "cell_type": "code",
      "metadata": {
        "colab": {
          "base_uri": "https://localhost:8080/"
        },
        "id": "AqIxLR6Z3oMq",
        "outputId": "ede66cf3-4ff1-4e25-c31f-a3e90ab8d2cd"
      },
      "source": [
        "df[\"Company response to consumer\"].value_counts()"
      ],
      "execution_count": null,
      "outputs": [
        {
          "output_type": "execute_result",
          "data": {
            "text/plain": [
              "Closed with explanation            861922\n",
              "Closed with non-monetary relief    109617\n",
              "Closed with monetary relief         46637\n",
              "Closed without relief               10013\n",
              "In progress                          9400\n",
              "Closed                               7935\n",
              "Closed with relief                   3050\n",
              "Name: Company response to consumer, dtype: int64"
            ]
          },
          "metadata": {
            "tags": []
          },
          "execution_count": 19
        }
      ]
    },
    {
      "cell_type": "code",
      "metadata": {
        "colab": {
          "base_uri": "https://localhost:8080/"
        },
        "id": "g-ROMzwy3qGt",
        "outputId": "01a1aa2f-9750-4532-f4c2-ab2e3369a40d"
      },
      "source": [
        "test[\"Company response to consumer\"].value_counts().index"
      ],
      "execution_count": null,
      "outputs": [
        {
          "output_type": "execute_result",
          "data": {
            "text/plain": [
              "Index(['Closed with explanation', 'Closed with non-monetary relief',\n",
              "       'Closed with monetary relief', 'Closed without relief', 'In progress',\n",
              "       'Closed', 'Closed with relief'],\n",
              "      dtype='object')"
            ]
          },
          "metadata": {
            "tags": []
          },
          "execution_count": 20
        }
      ]
    },
    {
      "cell_type": "code",
      "metadata": {
        "cellView": "code",
        "id": "9Nj-ZeIF4H-H"
      },
      "source": [
        "#@title Default title text\n",
        "companyresponsemapper={'Closed with explanation':2, 'Closed with non-monetary relief':-1,\n",
        "       'Closed with monetary relief':4, 'Closed without relief':-2, 'In progress':0,\n",
        "       'Closed':1, 'Closed with relief':3 }"
      ],
      "execution_count": null,
      "outputs": []
    },
    {
      "cell_type": "code",
      "metadata": {
        "id": "bCZ1Z_KN5Sdr"
      },
      "source": [
        "df[\"Company response to consumer\"]=df[\"Company response to consumer\"].map(companyresponsemapper)\n",
        "total[\"Company response to consumer\"]=total[\"Company response to consumer\"].map(companyresponsemapper)"
      ],
      "execution_count": null,
      "outputs": []
    },
    {
      "cell_type": "code",
      "metadata": {
        "colab": {
          "base_uri": "https://localhost:8080/"
        },
        "id": "saHQh79Z5dy2",
        "outputId": "d1f66acc-bf76-4d3d-c28b-2660b844b967"
      },
      "source": [
        "df[\"Submitted via\"].value_counts()"
      ],
      "execution_count": null,
      "outputs": [
        {
          "output_type": "execute_result",
          "data": {
            "text/plain": [
              "Web            823719\n",
              "Referral       108975\n",
              "Phone           61720\n",
              "Postal mail     41132\n",
              "Fax             12829\n",
              "Email             200\n",
              "Name: Submitted via, dtype: int64"
            ]
          },
          "metadata": {
            "tags": []
          },
          "execution_count": 23
        }
      ]
    },
    {
      "cell_type": "code",
      "metadata": {
        "colab": {
          "base_uri": "https://localhost:8080/"
        },
        "id": "CfPdOpmm5the",
        "outputId": "c7243e55-d695-4d89-879b-2ce86123172a"
      },
      "source": [
        "test[\"Submitted via\"].value_counts()"
      ],
      "execution_count": null,
      "outputs": [
        {
          "output_type": "execute_result",
          "data": {
            "text/plain": [
              "Web            361420\n",
              "Referral        47737\n",
              "Phone           26841\n",
              "Postal mail     17946\n",
              "Fax              5668\n",
              "Email              82\n",
              "Name: Submitted via, dtype: int64"
            ]
          },
          "metadata": {
            "tags": []
          },
          "execution_count": 24
        }
      ]
    },
    {
      "cell_type": "code",
      "metadata": {
        "id": "p81fl24w5_EI"
      },
      "source": [
        "crchecks=pd.get_dummies(df[\"Submitted via\"])"
      ],
      "execution_count": null,
      "outputs": []
    },
    {
      "cell_type": "code",
      "metadata": {
        "id": "p4Bkq1yp6eDt"
      },
      "source": [
        "crcheck=pd.concat([crchecks,df[\"Timely response?\"]],axis=1)"
      ],
      "execution_count": null,
      "outputs": []
    },
    {
      "cell_type": "code",
      "metadata": {
        "colab": {
          "base_uri": "https://localhost:8080/",
          "height": 419
        },
        "id": "XHMTMxoH7dni",
        "outputId": "0698fb59-fed0-4377-b7df-1bf8c1e1ac63"
      },
      "source": [
        "crcheck"
      ],
      "execution_count": null,
      "outputs": [
        {
          "output_type": "execute_result",
          "data": {
            "text/html": [
              "<div>\n",
              "<style scoped>\n",
              "    .dataframe tbody tr th:only-of-type {\n",
              "        vertical-align: middle;\n",
              "    }\n",
              "\n",
              "    .dataframe tbody tr th {\n",
              "        vertical-align: top;\n",
              "    }\n",
              "\n",
              "    .dataframe thead th {\n",
              "        text-align: right;\n",
              "    }\n",
              "</style>\n",
              "<table border=\"1\" class=\"dataframe\">\n",
              "  <thead>\n",
              "    <tr style=\"text-align: right;\">\n",
              "      <th></th>\n",
              "      <th>Email</th>\n",
              "      <th>Fax</th>\n",
              "      <th>Phone</th>\n",
              "      <th>Postal mail</th>\n",
              "      <th>Referral</th>\n",
              "      <th>Web</th>\n",
              "      <th>Timely response?</th>\n",
              "    </tr>\n",
              "  </thead>\n",
              "  <tbody>\n",
              "    <tr>\n",
              "      <th>0</th>\n",
              "      <td>0</td>\n",
              "      <td>1</td>\n",
              "      <td>0</td>\n",
              "      <td>0</td>\n",
              "      <td>0</td>\n",
              "      <td>0</td>\n",
              "      <td>1</td>\n",
              "    </tr>\n",
              "    <tr>\n",
              "      <th>1</th>\n",
              "      <td>0</td>\n",
              "      <td>0</td>\n",
              "      <td>0</td>\n",
              "      <td>0</td>\n",
              "      <td>0</td>\n",
              "      <td>1</td>\n",
              "      <td>1</td>\n",
              "    </tr>\n",
              "    <tr>\n",
              "      <th>2</th>\n",
              "      <td>0</td>\n",
              "      <td>0</td>\n",
              "      <td>0</td>\n",
              "      <td>0</td>\n",
              "      <td>0</td>\n",
              "      <td>1</td>\n",
              "      <td>1</td>\n",
              "    </tr>\n",
              "    <tr>\n",
              "      <th>3</th>\n",
              "      <td>0</td>\n",
              "      <td>0</td>\n",
              "      <td>1</td>\n",
              "      <td>0</td>\n",
              "      <td>0</td>\n",
              "      <td>0</td>\n",
              "      <td>1</td>\n",
              "    </tr>\n",
              "    <tr>\n",
              "      <th>4</th>\n",
              "      <td>0</td>\n",
              "      <td>0</td>\n",
              "      <td>0</td>\n",
              "      <td>0</td>\n",
              "      <td>0</td>\n",
              "      <td>1</td>\n",
              "      <td>1</td>\n",
              "    </tr>\n",
              "    <tr>\n",
              "      <th>...</th>\n",
              "      <td>...</td>\n",
              "      <td>...</td>\n",
              "      <td>...</td>\n",
              "      <td>...</td>\n",
              "      <td>...</td>\n",
              "      <td>...</td>\n",
              "      <td>...</td>\n",
              "    </tr>\n",
              "    <tr>\n",
              "      <th>1048570</th>\n",
              "      <td>0</td>\n",
              "      <td>0</td>\n",
              "      <td>0</td>\n",
              "      <td>0</td>\n",
              "      <td>1</td>\n",
              "      <td>0</td>\n",
              "      <td>1</td>\n",
              "    </tr>\n",
              "    <tr>\n",
              "      <th>1048571</th>\n",
              "      <td>0</td>\n",
              "      <td>0</td>\n",
              "      <td>0</td>\n",
              "      <td>0</td>\n",
              "      <td>0</td>\n",
              "      <td>1</td>\n",
              "      <td>1</td>\n",
              "    </tr>\n",
              "    <tr>\n",
              "      <th>1048572</th>\n",
              "      <td>0</td>\n",
              "      <td>0</td>\n",
              "      <td>0</td>\n",
              "      <td>0</td>\n",
              "      <td>1</td>\n",
              "      <td>0</td>\n",
              "      <td>1</td>\n",
              "    </tr>\n",
              "    <tr>\n",
              "      <th>1048573</th>\n",
              "      <td>0</td>\n",
              "      <td>0</td>\n",
              "      <td>0</td>\n",
              "      <td>0</td>\n",
              "      <td>0</td>\n",
              "      <td>1</td>\n",
              "      <td>1</td>\n",
              "    </tr>\n",
              "    <tr>\n",
              "      <th>1048574</th>\n",
              "      <td>0</td>\n",
              "      <td>0</td>\n",
              "      <td>0</td>\n",
              "      <td>0</td>\n",
              "      <td>0</td>\n",
              "      <td>1</td>\n",
              "      <td>1</td>\n",
              "    </tr>\n",
              "  </tbody>\n",
              "</table>\n",
              "<p>1048575 rows × 7 columns</p>\n",
              "</div>"
            ],
            "text/plain": [
              "         Email  Fax  Phone  Postal mail  Referral  Web  Timely response?\n",
              "0            0    1      0            0         0    0                 1\n",
              "1            0    0      0            0         0    1                 1\n",
              "2            0    0      0            0         0    1                 1\n",
              "3            0    0      1            0         0    0                 1\n",
              "4            0    0      0            0         0    1                 1\n",
              "...        ...  ...    ...          ...       ...  ...               ...\n",
              "1048570      0    0      0            0         1    0                 1\n",
              "1048571      0    0      0            0         0    1                 1\n",
              "1048572      0    0      0            0         1    0                 1\n",
              "1048573      0    0      0            0         0    1                 1\n",
              "1048574      0    0      0            0         0    1                 1\n",
              "\n",
              "[1048575 rows x 7 columns]"
            ]
          },
          "metadata": {
            "tags": []
          },
          "execution_count": 97
        }
      ]
    },
    {
      "cell_type": "code",
      "metadata": {
        "colab": {
          "base_uri": "https://localhost:8080/"
        },
        "id": "XCbVGq5N7QCU",
        "outputId": "efb94168-feae-4f19-8654-bbc0f9cafada"
      },
      "source": [
        "crcheck.corr()[\"Timely response?\"]"
      ],
      "execution_count": null,
      "outputs": [
        {
          "output_type": "execute_result",
          "data": {
            "text/plain": [
              "Email               0.001059\n",
              "Fax                -0.001741\n",
              "Phone              -0.010394\n",
              "Postal mail         0.001687\n",
              "Referral            0.001526\n",
              "Web                 0.004459\n",
              "Timely response?    1.000000\n",
              "Name: Timely response?, dtype: float64"
            ]
          },
          "metadata": {
            "tags": []
          },
          "execution_count": 98
        }
      ]
    },
    {
      "cell_type": "code",
      "metadata": {
        "colab": {
          "base_uri": "https://localhost:8080/",
          "height": 163
        },
        "id": "qBLgmfDp7alV",
        "outputId": "dd043f01-4baf-48f5-8001-bdb9b6d4485f"
      },
      "source": [
        "df.columns"
      ],
      "execution_count": null,
      "outputs": [
        {
          "output_type": "error",
          "ename": "NameError",
          "evalue": "ignored",
          "traceback": [
            "\u001b[0;31m---------------------------------------------------------------------------\u001b[0m",
            "\u001b[0;31mNameError\u001b[0m                                 Traceback (most recent call last)",
            "\u001b[0;32m<ipython-input-4-b666bf274d0a>\u001b[0m in \u001b[0;36m<module>\u001b[0;34m()\u001b[0m\n\u001b[0;32m----> 1\u001b[0;31m \u001b[0mdf\u001b[0m\u001b[0;34m.\u001b[0m\u001b[0mcolumns\u001b[0m\u001b[0;34m\u001b[0m\u001b[0;34m\u001b[0m\u001b[0m\n\u001b[0m",
            "\u001b[0;31mNameError\u001b[0m: name 'df' is not defined"
          ]
        }
      ]
    },
    {
      "cell_type": "code",
      "metadata": {
        "colab": {
          "base_uri": "https://localhost:8080/"
        },
        "id": "JpjrKdQJCnS2",
        "outputId": "262cdc47-9f58-478d-8ce8-e7463a729f54"
      },
      "source": [
        "df.isnull().sum()"
      ],
      "execution_count": null,
      "outputs": [
        {
          "output_type": "execute_result",
          "data": {
            "text/plain": [
              "Complaint_ID                         0\n",
              "Date received                        0\n",
              "Product                              0\n",
              "Sub-product                     100901\n",
              "Issue                                0\n",
              "Sub-issue                       282519\n",
              "Consumer complaint narrative    737766\n",
              "Company public response         601927\n",
              "Company                              0\n",
              "State                            21018\n",
              "ZIP code                         93734\n",
              "Tags                            919298\n",
              "Consumer consent provided?      367626\n",
              "Submitted via                        0\n",
              "Date sent to company                 0\n",
              "Company response to consumer         1\n",
              "Consumer disputed?              719432\n",
              "Timely response?                     0\n",
              "test                                 0\n",
              "dtype: int64"
            ]
          },
          "metadata": {
            "tags": []
          },
          "execution_count": 25
        }
      ]
    },
    {
      "cell_type": "code",
      "metadata": {
        "colab": {
          "base_uri": "https://localhost:8080/",
          "height": 1000
        },
        "id": "fgTP6r8Y8Q9V",
        "outputId": "ddf22532-c396-4e4c-f1c4-8726e6ca262a"
      },
      "source": [
        "obcol=['Product', 'Sub-product',\n",
        "       'Issue', 'Sub-issue','State', 'ZIP code', 'Tags','Consumer consent provided?']\n",
        "for i in obcol:\n",
        "  display(df[i].nunique())\n",
        "  display(df[i].value_counts())"
      ],
      "execution_count": null,
      "outputs": [
        {
          "output_type": "display_data",
          "data": {
            "text/plain": [
              "18"
            ]
          },
          "metadata": {
            "tags": []
          }
        },
        {
          "output_type": "display_data",
          "data": {
            "text/plain": [
              "Credit reporting, credit repair services, or other personal consumer reports    400981\n",
              "Debt collection                                                                 167263\n",
              "Mortgage                                                                        153440\n",
              "Credit reporting                                                                 60028\n",
              "Credit card or prepaid card                                                      59840\n",
              "Checking or savings account                                                      47571\n",
              "Credit card                                                                      38538\n",
              "Bank account or service                                                          38486\n",
              "Student loan                                                                     26920\n",
              "Money transfer, virtual currency, or money service                               14520\n",
              "Vehicle loan or lease                                                            13063\n",
              "Consumer Loan                                                                    12671\n",
              "Payday loan, title loan, or personal loan                                         8854\n",
              "Payday loan                                                                       2335\n",
              "Money transfers                                                                   2197\n",
              "Prepaid card                                                                      1409\n",
              "Other financial service                                                            454\n",
              "Virtual currency                                                                     5\n",
              "Name: Product, dtype: int64"
            ]
          },
          "metadata": {
            "tags": []
          }
        },
        {
          "output_type": "display_data",
          "data": {
            "text/plain": [
              "76"
            ]
          },
          "metadata": {
            "tags": []
          }
        },
        {
          "output_type": "display_data",
          "data": {
            "text/plain": [
              "Credit reporting                              396298\n",
              "Checking account                               63005\n",
              "General-purpose credit card or charge card     44252\n",
              "Other mortgage                                 42906\n",
              "I do not know                                  35741\n",
              "                                               ...  \n",
              "Traveler’s/Cashier’s checks                       45\n",
              "Credit repair                                     41\n",
              "Transit card                                      12\n",
              "Student prepaid card                               7\n",
              "Electronic Benefit Transfer / EBT card             6\n",
              "Name: Sub-product, Length: 76, dtype: int64"
            ]
          },
          "metadata": {
            "tags": []
          }
        },
        {
          "output_type": "display_data",
          "data": {
            "text/plain": [
              "165"
            ]
          },
          "metadata": {
            "tags": []
          }
        },
        {
          "output_type": "display_data",
          "data": {
            "text/plain": [
              "Incorrect information on your report                                                261222\n",
              "Problem with a credit reporting company's investigation into an existing problem     98074\n",
              "Loan modification,collection,foreclosure                                             52322\n",
              "Attempts to collect debt not owed                                                    52211\n",
              "Incorrect information on credit report                                               44981\n",
              "                                                                                     ...  \n",
              "Property was sold                                                                        4\n",
              "Problem with an overdraft                                                                3\n",
              "Lender damaged or destroyed vehicle                                                      2\n",
              "Lender sold the property                                                                 2\n",
              "Lender damaged or destroyed property                                                     2\n",
              "Name: Issue, Length: 165, dtype: int64"
            ]
          },
          "metadata": {
            "tags": []
          }
        },
        {
          "output_type": "display_data",
          "data": {
            "text/plain": [
              "220"
            ]
          },
          "metadata": {
            "tags": []
          }
        },
        {
          "output_type": "display_data",
          "data": {
            "text/plain": [
              "Information belongs to someone else                                                 168900\n",
              "Their investigation did not fix an error on your report                              53986\n",
              "Account status incorrect                                                             30502\n",
              "Account information incorrect                                                        29125\n",
              "Debt is not yours                                                                    26446\n",
              "                                                                                     ...  \n",
              "Qualified for a better loan than the one offered                                         5\n",
              "Was signed up for overdraft on card, but don't want to be                                2\n",
              "Insurance terms                                                                          2\n",
              "Credit monitoring or identity theft protection services                                  1\n",
              "Problem with a credit reporting company's investigation into an existing problem         1\n",
              "Name: Sub-issue, Length: 220, dtype: int64"
            ]
          },
          "metadata": {
            "tags": []
          }
        },
        {
          "output_type": "display_data",
          "data": {
            "text/plain": [
              "62"
            ]
          },
          "metadata": {
            "tags": []
          }
        },
        {
          "output_type": "display_data",
          "data": {
            "text/plain": [
              "CA    135483\n",
              "FL    117428\n",
              "TX     97339\n",
              "NY     71843\n",
              "GA     58820\n",
              "       ...  \n",
              "AA        31\n",
              "FM        31\n",
              "AS        19\n",
              "MP        16\n",
              "MH        12\n",
              "Name: State, Length: 62, dtype: int64"
            ]
          },
          "metadata": {
            "tags": []
          }
        },
        {
          "output_type": "display_data",
          "data": {
            "text/plain": [
              "20797"
            ]
          },
          "metadata": {
            "tags": []
          }
        },
        {
          "output_type": "display_data",
          "data": {
            "text/plain": [
              "330XX    8581\n",
              "331XX    7657\n",
              "300XX    6500\n",
              "770XX    6064\n",
              "606XX    4697\n",
              "         ... \n",
              "22002       1\n",
              "85328       1\n",
              "53520       1\n",
              "2334        1\n",
              "24593       1\n",
              "Name: ZIP code, Length: 20797, dtype: int64"
            ]
          },
          "metadata": {
            "tags": []
          }
        },
        {
          "output_type": "display_data",
          "data": {
            "text/plain": [
              "3"
            ]
          },
          "metadata": {
            "tags": []
          }
        },
        {
          "output_type": "display_data",
          "data": {
            "text/plain": [
              "Servicemember                    69827\n",
              "Older American                   48350\n",
              "Older American, Servicemember    11100\n",
              "Name: Tags, dtype: int64"
            ]
          },
          "metadata": {
            "tags": []
          }
        },
        {
          "output_type": "display_data",
          "data": {
            "text/plain": [
              "4"
            ]
          },
          "metadata": {
            "tags": []
          }
        },
        {
          "output_type": "display_data",
          "data": {
            "text/plain": [
              "Consent not provided    338684\n",
              "Consent provided        311002\n",
              "Other                    29605\n",
              "Consent withdrawn         1658\n",
              "Name: Consumer consent provided?, dtype: int64"
            ]
          },
          "metadata": {
            "tags": []
          }
        }
      ]
    },
    {
      "cell_type": "code",
      "metadata": {
        "colab": {
          "base_uri": "https://localhost:8080/",
          "height": 649
        },
        "id": "Kx6cp0du8McA",
        "outputId": "b9016853-ccbe-470f-9349-c96e6b91f2de"
      },
      "source": [
        "df.head()"
      ],
      "execution_count": null,
      "outputs": [
        {
          "output_type": "execute_result",
          "data": {
            "text/html": [
              "<div>\n",
              "<style scoped>\n",
              "    .dataframe tbody tr th:only-of-type {\n",
              "        vertical-align: middle;\n",
              "    }\n",
              "\n",
              "    .dataframe tbody tr th {\n",
              "        vertical-align: top;\n",
              "    }\n",
              "\n",
              "    .dataframe thead th {\n",
              "        text-align: right;\n",
              "    }\n",
              "</style>\n",
              "<table border=\"1\" class=\"dataframe\">\n",
              "  <thead>\n",
              "    <tr style=\"text-align: right;\">\n",
              "      <th></th>\n",
              "      <th>Unnamed: 0</th>\n",
              "      <th>Complaint_ID</th>\n",
              "      <th>Date received</th>\n",
              "      <th>Product</th>\n",
              "      <th>Sub-product</th>\n",
              "      <th>Issue</th>\n",
              "      <th>Sub-issue</th>\n",
              "      <th>Consumer complaint narrative</th>\n",
              "      <th>Company public response</th>\n",
              "      <th>Company</th>\n",
              "      <th>State</th>\n",
              "      <th>ZIP code</th>\n",
              "      <th>Tags</th>\n",
              "      <th>Consumer consent provided?</th>\n",
              "      <th>Submitted via</th>\n",
              "      <th>Date sent to company</th>\n",
              "      <th>Company response to consumer</th>\n",
              "      <th>Consumer disputed?</th>\n",
              "      <th>Timely response?</th>\n",
              "      <th>test</th>\n",
              "    </tr>\n",
              "  </thead>\n",
              "  <tbody>\n",
              "    <tr>\n",
              "      <th>0</th>\n",
              "      <td>0</td>\n",
              "      <td>2535701</td>\n",
              "      <td>6/8/2017</td>\n",
              "      <td>Mortgage</td>\n",
              "      <td>Conventional home mortgage</td>\n",
              "      <td>Struggling to pay mortgage</td>\n",
              "      <td>NaN</td>\n",
              "      <td>NaN</td>\n",
              "      <td>NaN</td>\n",
              "      <td>Caliber Home Loans, Inc.</td>\n",
              "      <td>FL</td>\n",
              "      <td>34744</td>\n",
              "      <td>NaN</td>\n",
              "      <td>NaN</td>\n",
              "      <td>Fax</td>\n",
              "      <td>6/12/2017</td>\n",
              "      <td>2.0</td>\n",
              "      <td>NaN</td>\n",
              "      <td>1</td>\n",
              "      <td>0</td>\n",
              "    </tr>\n",
              "    <tr>\n",
              "      <th>1</th>\n",
              "      <td>1</td>\n",
              "      <td>3314889</td>\n",
              "      <td>7/22/2019</td>\n",
              "      <td>Credit card or prepaid card</td>\n",
              "      <td>General-purpose credit card or charge card</td>\n",
              "      <td>Problem with a purchase shown on your statement</td>\n",
              "      <td>Credit card company isn't resolving a dispute ...</td>\n",
              "      <td>On XX/XX/2019 all of my credit and debit cards...</td>\n",
              "      <td>Company has responded to the consumer and the ...</td>\n",
              "      <td>WELLS FARGO &amp; COMPANY</td>\n",
              "      <td>CA</td>\n",
              "      <td>900XX</td>\n",
              "      <td>NaN</td>\n",
              "      <td>Consent provided</td>\n",
              "      <td>Web</td>\n",
              "      <td>7/22/2019</td>\n",
              "      <td>2.0</td>\n",
              "      <td>NaN</td>\n",
              "      <td>1</td>\n",
              "      <td>0</td>\n",
              "    </tr>\n",
              "    <tr>\n",
              "      <th>2</th>\n",
              "      <td>2</td>\n",
              "      <td>3612478</td>\n",
              "      <td>4/18/2020</td>\n",
              "      <td>Credit reporting, credit repair services, or o...</td>\n",
              "      <td>Credit reporting</td>\n",
              "      <td>Incorrect information on your report</td>\n",
              "      <td>Information belongs to someone else</td>\n",
              "      <td>I was made aware of a negative account and inq...</td>\n",
              "      <td>NaN</td>\n",
              "      <td>EQUIFAX, INC.</td>\n",
              "      <td>CA</td>\n",
              "      <td>945XX</td>\n",
              "      <td>NaN</td>\n",
              "      <td>Consent provided</td>\n",
              "      <td>Web</td>\n",
              "      <td>4/18/2020</td>\n",
              "      <td>2.0</td>\n",
              "      <td>NaN</td>\n",
              "      <td>1</td>\n",
              "      <td>0</td>\n",
              "    </tr>\n",
              "    <tr>\n",
              "      <th>3</th>\n",
              "      <td>3</td>\n",
              "      <td>2069704</td>\n",
              "      <td>8/18/2016</td>\n",
              "      <td>Bank account or service</td>\n",
              "      <td>Checking account</td>\n",
              "      <td>Deposits and withdrawals</td>\n",
              "      <td>NaN</td>\n",
              "      <td>NaN</td>\n",
              "      <td>Company has responded to the consumer and the ...</td>\n",
              "      <td>BANK OF AMERICA, NATIONAL ASSOCIATION</td>\n",
              "      <td>TX</td>\n",
              "      <td>77014</td>\n",
              "      <td>NaN</td>\n",
              "      <td>NaN</td>\n",
              "      <td>Phone</td>\n",
              "      <td>8/19/2016</td>\n",
              "      <td>4.0</td>\n",
              "      <td>No</td>\n",
              "      <td>1</td>\n",
              "      <td>0</td>\n",
              "    </tr>\n",
              "    <tr>\n",
              "      <th>4</th>\n",
              "      <td>4</td>\n",
              "      <td>3354927</td>\n",
              "      <td>8/27/2019</td>\n",
              "      <td>Debt collection</td>\n",
              "      <td>Auto debt</td>\n",
              "      <td>Took or threatened to take negative or legal a...</td>\n",
              "      <td>Threatened or suggested your credit would be d...</td>\n",
              "      <td>NaN</td>\n",
              "      <td>NaN</td>\n",
              "      <td>Bridgecrest Acceptance Corporation</td>\n",
              "      <td>PA</td>\n",
              "      <td>19143</td>\n",
              "      <td>Servicemember</td>\n",
              "      <td>Consent not provided</td>\n",
              "      <td>Web</td>\n",
              "      <td>8/27/2019</td>\n",
              "      <td>2.0</td>\n",
              "      <td>NaN</td>\n",
              "      <td>1</td>\n",
              "      <td>0</td>\n",
              "    </tr>\n",
              "  </tbody>\n",
              "</table>\n",
              "</div>"
            ],
            "text/plain": [
              "   Unnamed: 0  Complaint_ID Date received  \\\n",
              "0           0       2535701      6/8/2017   \n",
              "1           1       3314889     7/22/2019   \n",
              "2           2       3612478     4/18/2020   \n",
              "3           3       2069704     8/18/2016   \n",
              "4           4       3354927     8/27/2019   \n",
              "\n",
              "                                             Product  \\\n",
              "0                                           Mortgage   \n",
              "1                        Credit card or prepaid card   \n",
              "2  Credit reporting, credit repair services, or o...   \n",
              "3                            Bank account or service   \n",
              "4                                    Debt collection   \n",
              "\n",
              "                                  Sub-product  \\\n",
              "0                  Conventional home mortgage   \n",
              "1  General-purpose credit card or charge card   \n",
              "2                            Credit reporting   \n",
              "3                            Checking account   \n",
              "4                                   Auto debt   \n",
              "\n",
              "                                               Issue  \\\n",
              "0                         Struggling to pay mortgage   \n",
              "1    Problem with a purchase shown on your statement   \n",
              "2               Incorrect information on your report   \n",
              "3                           Deposits and withdrawals   \n",
              "4  Took or threatened to take negative or legal a...   \n",
              "\n",
              "                                           Sub-issue  \\\n",
              "0                                                NaN   \n",
              "1  Credit card company isn't resolving a dispute ...   \n",
              "2                Information belongs to someone else   \n",
              "3                                                NaN   \n",
              "4  Threatened or suggested your credit would be d...   \n",
              "\n",
              "                        Consumer complaint narrative  \\\n",
              "0                                                NaN   \n",
              "1  On XX/XX/2019 all of my credit and debit cards...   \n",
              "2  I was made aware of a negative account and inq...   \n",
              "3                                                NaN   \n",
              "4                                                NaN   \n",
              "\n",
              "                             Company public response  \\\n",
              "0                                                NaN   \n",
              "1  Company has responded to the consumer and the ...   \n",
              "2                                                NaN   \n",
              "3  Company has responded to the consumer and the ...   \n",
              "4                                                NaN   \n",
              "\n",
              "                                 Company State ZIP code           Tags  \\\n",
              "0               Caliber Home Loans, Inc.    FL    34744            NaN   \n",
              "1                  WELLS FARGO & COMPANY    CA    900XX            NaN   \n",
              "2                          EQUIFAX, INC.    CA    945XX            NaN   \n",
              "3  BANK OF AMERICA, NATIONAL ASSOCIATION    TX    77014            NaN   \n",
              "4     Bridgecrest Acceptance Corporation    PA    19143  Servicemember   \n",
              "\n",
              "  Consumer consent provided? Submitted via Date sent to company  \\\n",
              "0                        NaN           Fax            6/12/2017   \n",
              "1           Consent provided           Web            7/22/2019   \n",
              "2           Consent provided           Web            4/18/2020   \n",
              "3                        NaN         Phone            8/19/2016   \n",
              "4       Consent not provided           Web            8/27/2019   \n",
              "\n",
              "   Company response to consumer Consumer disputed?  Timely response?  test  \n",
              "0                           2.0                NaN                 1     0  \n",
              "1                           2.0                NaN                 1     0  \n",
              "2                           2.0                NaN                 1     0  \n",
              "3                           4.0                 No                 1     0  \n",
              "4                           2.0                NaN                 1     0  "
            ]
          },
          "metadata": {
            "tags": []
          },
          "execution_count": 101
        }
      ]
    },
    {
      "cell_type": "code",
      "metadata": {
        "id": "2UoUOt1Q8NW2"
      },
      "source": [
        "## Lets UnderSample,one hot encode most of the thing except consumer complaint narrative "
      ],
      "execution_count": null,
      "outputs": []
    },
    {
      "cell_type": "markdown",
      "metadata": {
        "id": "HFxnEbx3GOKh"
      },
      "source": [
        "## Substiuting Missing Values with None"
      ]
    },
    {
      "cell_type": "code",
      "metadata": {
        "colab": {
          "base_uri": "https://localhost:8080/"
        },
        "id": "js0KuiYkGLdt",
        "outputId": "d8f6bae7-89d9-40eb-bac5-72515f2dfd81"
      },
      "source": [
        "df.isnull().sum()"
      ],
      "execution_count": null,
      "outputs": [
        {
          "output_type": "execute_result",
          "data": {
            "text/plain": [
              "Complaint_ID                         0\n",
              "Date received                        0\n",
              "Product                              0\n",
              "Sub-product                     100901\n",
              "Issue                                0\n",
              "Sub-issue                       282519\n",
              "Consumer complaint narrative    737766\n",
              "Company public response         601927\n",
              "Company                              0\n",
              "State                            21018\n",
              "ZIP code                         93734\n",
              "Tags                                 0\n",
              "Consumer consent provided?      367626\n",
              "Submitted via                        0\n",
              "Date sent to company                 0\n",
              "Company response to consumer         1\n",
              "Consumer disputed?              719432\n",
              "Timely response?                     0\n",
              "test                                 0\n",
              "dtype: int64"
            ]
          },
          "metadata": {
            "tags": []
          },
          "execution_count": 30
        }
      ]
    },
    {
      "cell_type": "code",
      "metadata": {
        "id": "u4Z5-be_GW1g"
      },
      "source": [
        "total[\"Tags\"].fillna(\"None\",inplace=True)\n",
        "df[\"Tags\"].fillna(\"None\",inplace=True)\n",
        "# out of 10 lakhs nine lakhs are empty so can remove it if we want "
      ],
      "execution_count": null,
      "outputs": []
    },
    {
      "cell_type": "code",
      "metadata": {
        "id": "8MPfRcreHiga"
      },
      "source": [
        "total[\"Tags\"]"
      ],
      "execution_count": null,
      "outputs": []
    },
    {
      "cell_type": "code",
      "metadata": {
        "colab": {
          "base_uri": "https://localhost:8080/"
        },
        "id": "2MVdSnu-GvKF",
        "outputId": "21b536c1-c9c8-4728-e305-96be0d977454"
      },
      "source": [
        "df[\"Timely response?\"].value_counts()"
      ],
      "execution_count": null,
      "outputs": [
        {
          "output_type": "execute_result",
          "data": {
            "text/plain": [
              "Yes    1026569\n",
              "No       22006\n",
              "Name: Timely response?, dtype: int64"
            ]
          },
          "metadata": {
            "tags": []
          },
          "execution_count": 28
        }
      ]
    },
    {
      "cell_type": "code",
      "metadata": {
        "id": "1oCshLZ-Gy6M"
      },
      "source": [
        "#What i think let me remove and undersample first"
      ],
      "execution_count": null,
      "outputs": []
    },
    {
      "cell_type": "code",
      "metadata": {
        "id": "4Wx8VbydHf7i"
      },
      "source": [
        ""
      ],
      "execution_count": null,
      "outputs": []
    }
  ]
}