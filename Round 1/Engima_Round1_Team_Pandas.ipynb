{
  "nbformat": 4,
  "nbformat_minor": 0,
  "metadata": {
    "colab": {
      "name": "Engima_Round1_Team_Pandas.ipynb",
      "provenance": [],
      "collapsed_sections": []
    },
    "kernelspec": {
      "name": "python3",
      "display_name": "Python 3"
    },
    "language_info": {
      "name": "python"
    }
  },
  "cells": [
    {
      "cell_type": "code",
      "metadata": {
        "id": "gFdOpzaht53v"
      },
      "source": [
        "! mkdir ~/.kaggle\n",
        "! cp kaggle.json ~/.kaggle/\n",
        "! chmod 600 ~/.kaggle/kaggle.json"
      ],
      "execution_count": 1,
      "outputs": []
    },
    {
      "cell_type": "code",
      "metadata": {
        "id": "C3eL3oNJDDEB"
      },
      "source": [
        "!kaggle competitions download -c domain-network-security"
      ],
      "execution_count": null,
      "outputs": []
    },
    {
      "cell_type": "code",
      "metadata": {
        "colab": {
          "base_uri": "https://localhost:8080/"
        },
        "id": "a5_OPHnEDHR4",
        "outputId": "617695c5-eff8-4c37-8591-c0f9e64324b8"
      },
      "source": [
        "!unzip train.csv.zip"
      ],
      "execution_count": 3,
      "outputs": [
        {
          "output_type": "stream",
          "text": [
            "Archive:  train.csv.zip\n",
            "  inflating: train.csv               \n"
          ],
          "name": "stdout"
        }
      ]
    },
    {
      "cell_type": "code",
      "metadata": {
        "id": "gJy5eUMiDLjs"
      },
      "source": [
        "import pandas as pd\n",
        "import numpy as np\n",
        "import matplotlib.pyplot as plt\n",
        "import seaborn as sns\n",
        "%matplotlib inline \n",
        "pd.set_option(\"Max_Columns\",999)\n",
        "import pandas as pd\n",
        "import numpy as np\n",
        "import matplotlib.pyplot as plt\n",
        "import seaborn as sns\n",
        "%matplotlib inline \n",
        "from sklearn.metrics import f1_score\n",
        "pd.set_option(\"Max_Columns\",999)"
      ],
      "execution_count": 4,
      "outputs": []
    },
    {
      "cell_type": "code",
      "metadata": {
        "id": "4tGMd4FODOyR"
      },
      "source": [
        "df=pd.read_csv(\"train.csv\")\n",
        "test=pd.read_csv(\"test.csv\")"
      ],
      "execution_count": 75,
      "outputs": []
    },
    {
      "cell_type": "code",
      "metadata": {
        "colab": {
          "base_uri": "https://localhost:8080/",
          "height": 204
        },
        "id": "4ZtLzGvzLuFQ",
        "outputId": "b4be5682-392d-4f9f-e9fe-255fdd44bd1a"
      },
      "source": [
        "df.head()"
      ],
      "execution_count": 76,
      "outputs": [
        {
          "output_type": "execute_result",
          "data": {
            "text/html": [
              "<div>\n",
              "<style scoped>\n",
              "    .dataframe tbody tr th:only-of-type {\n",
              "        vertical-align: middle;\n",
              "    }\n",
              "\n",
              "    .dataframe tbody tr th {\n",
              "        vertical-align: top;\n",
              "    }\n",
              "\n",
              "    .dataframe thead th {\n",
              "        text-align: right;\n",
              "    }\n",
              "</style>\n",
              "<table border=\"1\" class=\"dataframe\">\n",
              "  <thead>\n",
              "    <tr style=\"text-align: right;\">\n",
              "      <th></th>\n",
              "      <th>ID</th>\n",
              "      <th>Source Port</th>\n",
              "      <th>Destination Port</th>\n",
              "      <th>NAT Source Port</th>\n",
              "      <th>NAT Destination Port</th>\n",
              "      <th>Bytes</th>\n",
              "      <th>Bytes Sent</th>\n",
              "      <th>Bytes Received</th>\n",
              "      <th>Packets</th>\n",
              "      <th>Elapsed Time (sec)</th>\n",
              "      <th>pkts_sent</th>\n",
              "      <th>pkts_received</th>\n",
              "      <th>Action</th>\n",
              "    </tr>\n",
              "  </thead>\n",
              "  <tbody>\n",
              "    <tr>\n",
              "      <th>0</th>\n",
              "      <td>59276</td>\n",
              "      <td>49418.0</td>\n",
              "      <td>27015.0</td>\n",
              "      <td>54748.0</td>\n",
              "      <td>NaN</td>\n",
              "      <td>78.0</td>\n",
              "      <td>78.0</td>\n",
              "      <td>0.0</td>\n",
              "      <td>1.0</td>\n",
              "      <td>29.0</td>\n",
              "      <td>1.0</td>\n",
              "      <td>0.0</td>\n",
              "      <td>allow</td>\n",
              "    </tr>\n",
              "    <tr>\n",
              "      <th>1</th>\n",
              "      <td>18986</td>\n",
              "      <td>58120.0</td>\n",
              "      <td>25174.0</td>\n",
              "      <td>NaN</td>\n",
              "      <td>0.0</td>\n",
              "      <td>66.0</td>\n",
              "      <td>66.0</td>\n",
              "      <td>0.0</td>\n",
              "      <td>NaN</td>\n",
              "      <td>0.0</td>\n",
              "      <td>1.0</td>\n",
              "      <td>0.0</td>\n",
              "      <td>deny</td>\n",
              "    </tr>\n",
              "    <tr>\n",
              "      <th>2</th>\n",
              "      <td>11131</td>\n",
              "      <td>46751.0</td>\n",
              "      <td>53.0</td>\n",
              "      <td>46751.0</td>\n",
              "      <td>53.0</td>\n",
              "      <td>220.0</td>\n",
              "      <td>90.0</td>\n",
              "      <td>130.0</td>\n",
              "      <td>2.0</td>\n",
              "      <td>30.0</td>\n",
              "      <td>NaN</td>\n",
              "      <td>1.0</td>\n",
              "      <td>allow</td>\n",
              "    </tr>\n",
              "    <tr>\n",
              "      <th>3</th>\n",
              "      <td>57352</td>\n",
              "      <td>52596.0</td>\n",
              "      <td>NaN</td>\n",
              "      <td>0.0</td>\n",
              "      <td>0.0</td>\n",
              "      <td>66.0</td>\n",
              "      <td>66.0</td>\n",
              "      <td>0.0</td>\n",
              "      <td>1.0</td>\n",
              "      <td>NaN</td>\n",
              "      <td>1.0</td>\n",
              "      <td>0.0</td>\n",
              "      <td>drop</td>\n",
              "    </tr>\n",
              "    <tr>\n",
              "      <th>4</th>\n",
              "      <td>17229</td>\n",
              "      <td>50584.0</td>\n",
              "      <td>6881.0</td>\n",
              "      <td>29773.0</td>\n",
              "      <td>NaN</td>\n",
              "      <td>502.0</td>\n",
              "      <td>150.0</td>\n",
              "      <td>352.0</td>\n",
              "      <td>2.0</td>\n",
              "      <td>1200.0</td>\n",
              "      <td>NaN</td>\n",
              "      <td>1.0</td>\n",
              "      <td>allow</td>\n",
              "    </tr>\n",
              "  </tbody>\n",
              "</table>\n",
              "</div>"
            ],
            "text/plain": [
              "      ID  Source Port  Destination Port  NAT Source Port  \\\n",
              "0  59276      49418.0           27015.0          54748.0   \n",
              "1  18986      58120.0           25174.0              NaN   \n",
              "2  11131      46751.0              53.0          46751.0   \n",
              "3  57352      52596.0               NaN              0.0   \n",
              "4  17229      50584.0            6881.0          29773.0   \n",
              "\n",
              "   NAT Destination Port  Bytes  Bytes Sent  Bytes Received  Packets  \\\n",
              "0                   NaN   78.0        78.0             0.0      1.0   \n",
              "1                   0.0   66.0        66.0             0.0      NaN   \n",
              "2                  53.0  220.0        90.0           130.0      2.0   \n",
              "3                   0.0   66.0        66.0             0.0      1.0   \n",
              "4                   NaN  502.0       150.0           352.0      2.0   \n",
              "\n",
              "   Elapsed Time (sec)  pkts_sent  pkts_received Action  \n",
              "0                29.0        1.0            0.0  allow  \n",
              "1                 0.0        1.0            0.0   deny  \n",
              "2                30.0        NaN            1.0  allow  \n",
              "3                 NaN        1.0            0.0   drop  \n",
              "4              1200.0        NaN            1.0  allow  "
            ]
          },
          "metadata": {
            "tags": []
          },
          "execution_count": 76
        }
      ]
    },
    {
      "cell_type": "code",
      "metadata": {
        "colab": {
          "base_uri": "https://localhost:8080/"
        },
        "id": "MKAqZXu1Mqmv",
        "outputId": "7ba8baf0-55c7-47c9-dd47-2fbc408a7eb1"
      },
      "source": [
        "len(df)"
      ],
      "execution_count": 84,
      "outputs": [
        {
          "output_type": "execute_result",
          "data": {
            "text/plain": [
              "45870"
            ]
          },
          "metadata": {
            "tags": []
          },
          "execution_count": 84
        }
      ]
    },
    {
      "cell_type": "code",
      "metadata": {
        "colab": {
          "base_uri": "https://localhost:8080/"
        },
        "id": "UEBXzRGwMtcn",
        "outputId": "30a8a91f-e5c2-452c-f0f1-1009ec5e85d2"
      },
      "source": [
        "9187/45870"
      ],
      "execution_count": 85,
      "outputs": [
        {
          "output_type": "execute_result",
          "data": {
            "text/plain": [
              "0.2002834096359276"
            ]
          },
          "metadata": {
            "tags": []
          },
          "execution_count": 85
        }
      ]
    },
    {
      "cell_type": "code",
      "metadata": {
        "colab": {
          "base_uri": "https://localhost:8080/"
        },
        "id": "xa0G6x39L0o9",
        "outputId": "be52be07-2643-4556-95cf-161b8fe1f117"
      },
      "source": [
        "df.isnull().sum()"
      ],
      "execution_count": 77,
      "outputs": [
        {
          "output_type": "execute_result",
          "data": {
            "text/plain": [
              "ID                         0\n",
              "Source Port             9187\n",
              "Destination Port        9177\n",
              "NAT Source Port         9114\n",
              "NAT Destination Port    9196\n",
              "Bytes                   9263\n",
              "Bytes Sent              9106\n",
              "Bytes Received          9177\n",
              "Packets                 9052\n",
              "Elapsed Time (sec)      9286\n",
              "pkts_sent               9203\n",
              "pkts_received           9159\n",
              "Action                     0\n",
              "dtype: int64"
            ]
          },
          "metadata": {
            "tags": []
          },
          "execution_count": 77
        }
      ]
    },
    {
      "cell_type": "code",
      "metadata": {
        "colab": {
          "base_uri": "https://localhost:8080/"
        },
        "id": "wncq4t_xL39u",
        "outputId": "10be63e5-a097-4894-dcf4-092bf5b12ff9"
      },
      "source": [
        "test.isnull().sum()"
      ],
      "execution_count": 78,
      "outputs": [
        {
          "output_type": "execute_result",
          "data": {
            "text/plain": [
              "ID                         0\n",
              "Source Port             3969\n",
              "Destination Port        3979\n",
              "NAT Source Port         4067\n",
              "NAT Destination Port    3942\n",
              "Bytes                   3877\n",
              "Bytes Sent              3778\n",
              "Bytes Received          3929\n",
              "Packets                 3926\n",
              "Elapsed Time (sec)      3959\n",
              "pkts_sent               3954\n",
              "pkts_received           3949\n",
              "dtype: int64"
            ]
          },
          "metadata": {
            "tags": []
          },
          "execution_count": 78
        }
      ]
    },
    {
      "cell_type": "code",
      "metadata": {
        "colab": {
          "base_uri": "https://localhost:8080/"
        },
        "id": "wr6QbJNhMi9v",
        "outputId": "09423194-c86c-4a9b-9cb9-71b8d30fe319"
      },
      "source": [
        "len(test)"
      ],
      "execution_count": 82,
      "outputs": [
        {
          "output_type": "execute_result",
          "data": {
            "text/plain": [
              "19662"
            ]
          },
          "metadata": {
            "tags": []
          },
          "execution_count": 82
        }
      ]
    },
    {
      "cell_type": "code",
      "metadata": {
        "colab": {
          "base_uri": "https://localhost:8080/"
        },
        "id": "DKPkSiswMoXh",
        "outputId": "a9f91d4a-3741-4f78-8f9e-e086203a5c65"
      },
      "source": [
        "4067/20000   # Similar Missing count. (Values maybe removed manually and split)"
      ],
      "execution_count": 86,
      "outputs": [
        {
          "output_type": "execute_result",
          "data": {
            "text/plain": [
              "0.20335"
            ]
          },
          "metadata": {
            "tags": []
          },
          "execution_count": 86
        }
      ]
    },
    {
      "cell_type": "code",
      "metadata": {
        "colab": {
          "base_uri": "https://localhost:8080/"
        },
        "id": "bxswveMkL7cN",
        "outputId": "331c26ec-a66c-4c61-9dc4-3f282ebb7ad6"
      },
      "source": [
        "df[\"Action\"].value_counts(normalize=True)\n",
        "#57 percent is allow \n",
        "# May be undersampling of allow 22 % . Reset both is very small( Have to oversample reset both or use smote  )\n",
        "#no need to use smote as only 37 Samples are there"
      ],
      "execution_count": 80,
      "outputs": [
        {
          "output_type": "execute_result",
          "data": {
            "text/plain": [
              "allow         0.574406\n",
              "deny          0.228690\n",
              "drop          0.196098\n",
              "reset-both    0.000807\n",
              "Name: Action, dtype: float64"
            ]
          },
          "metadata": {
            "tags": []
          },
          "execution_count": 80
        }
      ]
    },
    {
      "cell_type": "code",
      "metadata": {
        "id": "EK_nmcaNMYDp"
      },
      "source": [
        ""
      ],
      "execution_count": null,
      "outputs": []
    },
    {
      "cell_type": "code",
      "metadata": {
        "id": "BmDFabq-DQgH"
      },
      "source": [
        "for i in range(len(df)) :\n",
        "        df.loc[i,\"nancount\"]= df.iloc[i].isnull().sum()"
      ],
      "execution_count": 34,
      "outputs": []
    },
    {
      "cell_type": "code",
      "metadata": {
        "id": "B2N1jvqgDUZt"
      },
      "source": [
        "test[\"nancount\"]=0\n",
        "for i in range(len(test)) :\n",
        "        test.loc[i,\"nancount\"]= test.iloc[i].isnull().sum()"
      ],
      "execution_count": 35,
      "outputs": []
    },
    {
      "cell_type": "code",
      "metadata": {
        "id": "pI3i_pXDM8fU"
      },
      "source": [
        "df[\"nancount\"].value_counts()\n",
        "#can drop rows with 7,8,9 nan values"
      ],
      "execution_count": null,
      "outputs": []
    },
    {
      "cell_type": "code",
      "metadata": {
        "id": "DvgsTkETDna6"
      },
      "source": [
        "df =df[df[\"nancount\"]<7].copy()"
      ],
      "execution_count": 36,
      "outputs": []
    },
    {
      "cell_type": "code",
      "metadata": {
        "colab": {
          "base_uri": "https://localhost:8080/"
        },
        "id": "hYWMgLXpEPDP",
        "outputId": "4cfe9de1-fe48-446c-acdd-f3e01ef7adf3"
      },
      "source": [
        "df[\"nancount\"].value_counts()"
      ],
      "execution_count": 37,
      "outputs": [
        {
          "output_type": "execute_result",
          "data": {
            "text/plain": [
              "3.0    13583\n",
              "2.0    10818\n",
              "4.0    10163\n",
              "5.0     5021\n",
              "1.0     3937\n",
              "6.0     1823\n",
              "Name: nancount, dtype: int64"
            ]
          },
          "metadata": {
            "tags": []
          },
          "execution_count": 37
        }
      ]
    },
    {
      "cell_type": "code",
      "metadata": {
        "colab": {
          "base_uri": "https://localhost:8080/",
          "height": 419
        },
        "id": "V0FlFqFmEY7H",
        "outputId": "9fda86ed-8466-4424-b2cd-1d08174e23bc"
      },
      "source": [
        "df[[\"Bytes\",\"Bytes Sent\",\"Bytes Received\"]]"
      ],
      "execution_count": 38,
      "outputs": [
        {
          "output_type": "execute_result",
          "data": {
            "text/html": [
              "<div>\n",
              "<style scoped>\n",
              "    .dataframe tbody tr th:only-of-type {\n",
              "        vertical-align: middle;\n",
              "    }\n",
              "\n",
              "    .dataframe tbody tr th {\n",
              "        vertical-align: top;\n",
              "    }\n",
              "\n",
              "    .dataframe thead th {\n",
              "        text-align: right;\n",
              "    }\n",
              "</style>\n",
              "<table border=\"1\" class=\"dataframe\">\n",
              "  <thead>\n",
              "    <tr style=\"text-align: right;\">\n",
              "      <th></th>\n",
              "      <th>Bytes</th>\n",
              "      <th>Bytes Sent</th>\n",
              "      <th>Bytes Received</th>\n",
              "    </tr>\n",
              "  </thead>\n",
              "  <tbody>\n",
              "    <tr>\n",
              "      <th>0</th>\n",
              "      <td>78.0</td>\n",
              "      <td>78.0</td>\n",
              "      <td>0.0</td>\n",
              "    </tr>\n",
              "    <tr>\n",
              "      <th>1</th>\n",
              "      <td>66.0</td>\n",
              "      <td>66.0</td>\n",
              "      <td>0.0</td>\n",
              "    </tr>\n",
              "    <tr>\n",
              "      <th>2</th>\n",
              "      <td>220.0</td>\n",
              "      <td>90.0</td>\n",
              "      <td>130.0</td>\n",
              "    </tr>\n",
              "    <tr>\n",
              "      <th>3</th>\n",
              "      <td>66.0</td>\n",
              "      <td>66.0</td>\n",
              "      <td>0.0</td>\n",
              "    </tr>\n",
              "    <tr>\n",
              "      <th>4</th>\n",
              "      <td>502.0</td>\n",
              "      <td>150.0</td>\n",
              "      <td>352.0</td>\n",
              "    </tr>\n",
              "    <tr>\n",
              "      <th>...</th>\n",
              "      <td>...</td>\n",
              "      <td>...</td>\n",
              "      <td>...</td>\n",
              "    </tr>\n",
              "    <tr>\n",
              "      <th>45865</th>\n",
              "      <td>94.0</td>\n",
              "      <td>94.0</td>\n",
              "      <td>0.0</td>\n",
              "    </tr>\n",
              "    <tr>\n",
              "      <th>45866</th>\n",
              "      <td>177.0</td>\n",
              "      <td>94.0</td>\n",
              "      <td>83.0</td>\n",
              "    </tr>\n",
              "    <tr>\n",
              "      <th>45867</th>\n",
              "      <td>70.0</td>\n",
              "      <td>NaN</td>\n",
              "      <td>0.0</td>\n",
              "    </tr>\n",
              "    <tr>\n",
              "      <th>45868</th>\n",
              "      <td>2293.0</td>\n",
              "      <td>1576.0</td>\n",
              "      <td>NaN</td>\n",
              "    </tr>\n",
              "    <tr>\n",
              "      <th>45869</th>\n",
              "      <td>66.0</td>\n",
              "      <td>66.0</td>\n",
              "      <td>NaN</td>\n",
              "    </tr>\n",
              "  </tbody>\n",
              "</table>\n",
              "<p>45345 rows × 3 columns</p>\n",
              "</div>"
            ],
            "text/plain": [
              "        Bytes  Bytes Sent  Bytes Received\n",
              "0        78.0        78.0             0.0\n",
              "1        66.0        66.0             0.0\n",
              "2       220.0        90.0           130.0\n",
              "3        66.0        66.0             0.0\n",
              "4       502.0       150.0           352.0\n",
              "...       ...         ...             ...\n",
              "45865    94.0        94.0             0.0\n",
              "45866   177.0        94.0            83.0\n",
              "45867    70.0         NaN             0.0\n",
              "45868  2293.0      1576.0             NaN\n",
              "45869    66.0        66.0             NaN\n",
              "\n",
              "[45345 rows x 3 columns]"
            ]
          },
          "metadata": {
            "tags": []
          },
          "execution_count": 38
        }
      ]
    },
    {
      "cell_type": "code",
      "metadata": {
        "id": "xX3ih80PNGV6"
      },
      "source": [
        ""
      ],
      "execution_count": null,
      "outputs": []
    },
    {
      "cell_type": "markdown",
      "metadata": {
        "id": "VeZ4x-WhNHk0"
      },
      "source": [
        "### Found a Pattern Between Bytes ,Bytes _Sent and Recieved\n",
        "### Packets ,Packets Sent and Packets Recieved\n"
      ]
    },
    {
      "cell_type": "code",
      "metadata": {
        "id": "Y6llILTRGAQr"
      },
      "source": [
        "df.rename(columns={\"Bytes Sent\":\"Bytes_Sent\",\"Bytes Received\":\"Bytes_Recieved\"},inplace=True)"
      ],
      "execution_count": 39,
      "outputs": []
    },
    {
      "cell_type": "code",
      "metadata": {
        "id": "bIDLrE1DEeJC"
      },
      "source": [
        "df[\"Bytes_Sent\"].fillna(df.Bytes -df.Bytes_Recieved,inplace=True)"
      ],
      "execution_count": 40,
      "outputs": []
    },
    {
      "cell_type": "code",
      "metadata": {
        "colab": {
          "base_uri": "https://localhost:8080/",
          "height": 419
        },
        "id": "IqtsMTaBFEf2",
        "outputId": "a4d6bc16-a175-49e1-fd19-77c84cf41465"
      },
      "source": [
        "df[[\"Bytes\",\"Bytes_Sent\",\"Bytes_Recieved\"]]"
      ],
      "execution_count": 43,
      "outputs": [
        {
          "output_type": "execute_result",
          "data": {
            "text/html": [
              "<div>\n",
              "<style scoped>\n",
              "    .dataframe tbody tr th:only-of-type {\n",
              "        vertical-align: middle;\n",
              "    }\n",
              "\n",
              "    .dataframe tbody tr th {\n",
              "        vertical-align: top;\n",
              "    }\n",
              "\n",
              "    .dataframe thead th {\n",
              "        text-align: right;\n",
              "    }\n",
              "</style>\n",
              "<table border=\"1\" class=\"dataframe\">\n",
              "  <thead>\n",
              "    <tr style=\"text-align: right;\">\n",
              "      <th></th>\n",
              "      <th>Bytes</th>\n",
              "      <th>Bytes_Sent</th>\n",
              "      <th>Bytes_Recieved</th>\n",
              "    </tr>\n",
              "  </thead>\n",
              "  <tbody>\n",
              "    <tr>\n",
              "      <th>0</th>\n",
              "      <td>78.0</td>\n",
              "      <td>78.0</td>\n",
              "      <td>0.0</td>\n",
              "    </tr>\n",
              "    <tr>\n",
              "      <th>1</th>\n",
              "      <td>66.0</td>\n",
              "      <td>66.0</td>\n",
              "      <td>0.0</td>\n",
              "    </tr>\n",
              "    <tr>\n",
              "      <th>2</th>\n",
              "      <td>220.0</td>\n",
              "      <td>90.0</td>\n",
              "      <td>130.0</td>\n",
              "    </tr>\n",
              "    <tr>\n",
              "      <th>3</th>\n",
              "      <td>66.0</td>\n",
              "      <td>66.0</td>\n",
              "      <td>0.0</td>\n",
              "    </tr>\n",
              "    <tr>\n",
              "      <th>4</th>\n",
              "      <td>502.0</td>\n",
              "      <td>150.0</td>\n",
              "      <td>352.0</td>\n",
              "    </tr>\n",
              "    <tr>\n",
              "      <th>...</th>\n",
              "      <td>...</td>\n",
              "      <td>...</td>\n",
              "      <td>...</td>\n",
              "    </tr>\n",
              "    <tr>\n",
              "      <th>45865</th>\n",
              "      <td>94.0</td>\n",
              "      <td>94.0</td>\n",
              "      <td>0.0</td>\n",
              "    </tr>\n",
              "    <tr>\n",
              "      <th>45866</th>\n",
              "      <td>177.0</td>\n",
              "      <td>94.0</td>\n",
              "      <td>83.0</td>\n",
              "    </tr>\n",
              "    <tr>\n",
              "      <th>45867</th>\n",
              "      <td>70.0</td>\n",
              "      <td>70.0</td>\n",
              "      <td>0.0</td>\n",
              "    </tr>\n",
              "    <tr>\n",
              "      <th>45868</th>\n",
              "      <td>2293.0</td>\n",
              "      <td>1576.0</td>\n",
              "      <td>717.0</td>\n",
              "    </tr>\n",
              "    <tr>\n",
              "      <th>45869</th>\n",
              "      <td>66.0</td>\n",
              "      <td>66.0</td>\n",
              "      <td>0.0</td>\n",
              "    </tr>\n",
              "  </tbody>\n",
              "</table>\n",
              "<p>45345 rows × 3 columns</p>\n",
              "</div>"
            ],
            "text/plain": [
              "        Bytes  Bytes_Sent  Bytes_Recieved\n",
              "0        78.0        78.0             0.0\n",
              "1        66.0        66.0             0.0\n",
              "2       220.0        90.0           130.0\n",
              "3        66.0        66.0             0.0\n",
              "4       502.0       150.0           352.0\n",
              "...       ...         ...             ...\n",
              "45865    94.0        94.0             0.0\n",
              "45866   177.0        94.0            83.0\n",
              "45867    70.0        70.0             0.0\n",
              "45868  2293.0      1576.0           717.0\n",
              "45869    66.0        66.0             0.0\n",
              "\n",
              "[45345 rows x 3 columns]"
            ]
          },
          "metadata": {
            "tags": []
          },
          "execution_count": 43
        }
      ]
    },
    {
      "cell_type": "code",
      "metadata": {
        "id": "RKDDJ_4DFKG7"
      },
      "source": [
        "df[\"Bytes_Recieved\"].fillna(df.Bytes -df.Bytes_Sent,inplace=True)"
      ],
      "execution_count": 42,
      "outputs": []
    },
    {
      "cell_type": "code",
      "metadata": {
        "id": "X4LtlKAGG_jJ"
      },
      "source": [
        "df[\"Packets\"].fillna(df.pkts_sent + df.pkts_received,inplace=True)"
      ],
      "execution_count": 45,
      "outputs": []
    },
    {
      "cell_type": "code",
      "metadata": {
        "id": "uxpggxIuHJq_"
      },
      "source": [
        "df[\"pkts_sent\"].fillna(df.Packets - df.pkts_received,inplace=True)"
      ],
      "execution_count": 46,
      "outputs": []
    },
    {
      "cell_type": "code",
      "metadata": {
        "id": "nsjJ0aiNHTB4"
      },
      "source": [
        "df[\"pkts_received\"].fillna(df.Packets -df.pkts_sent ,inplace=True)"
      ],
      "execution_count": 47,
      "outputs": []
    },
    {
      "cell_type": "code",
      "metadata": {
        "colab": {
          "base_uri": "https://localhost:8080/"
        },
        "id": "TQEzwmyEHY9d",
        "outputId": "a79897e7-1de6-41e6-f734-a2762b911b48"
      },
      "source": [
        "df.isnull().sum()"
      ],
      "execution_count": 51,
      "outputs": [
        {
          "output_type": "execute_result",
          "data": {
            "text/plain": [
              "ID                         0\n",
              "Source Port             8889\n",
              "Destination Port        8862\n",
              "NAT Source Port         8826\n",
              "NAT Destination Port    8904\n",
              "Bytes                   8965\n",
              "Bytes_Sent              2978\n",
              "Bytes_Recieved          3008\n",
              "Packets                 3079\n",
              "Elapsed Time (sec)      8985\n",
              "pkts_sent               3079\n",
              "pkts_received           3020\n",
              "Action                     0\n",
              "nancount                   0\n",
              "dtype: int64"
            ]
          },
          "metadata": {
            "tags": []
          },
          "execution_count": 51
        }
      ]
    },
    {
      "cell_type": "code",
      "metadata": {
        "id": "r1aRY7LMNiRa"
      },
      "source": [
        "## Reduced Null Values  by three Fold in Bytes and Packets"
      ],
      "execution_count": 87,
      "outputs": []
    },
    {
      "cell_type": "markdown",
      "metadata": {
        "id": "Nhc2KG00NiuZ"
      },
      "source": [
        "## Undersampling of Allow and Oversampling of \"reset Both\""
      ]
    },
    {
      "cell_type": "code",
      "metadata": {
        "id": "KQHS-EljIzWN"
      },
      "source": [
        "allowdf=df[df[\"Action\"]==\"allow\"].sample(n=15000,random_state=42)\n",
        "reset_df=df[df[\"Action\"]==\"reset-both\"].sample(n=2000,random_state=42,replace=True)"
      ],
      "execution_count": 64,
      "outputs": []
    },
    {
      "cell_type": "code",
      "metadata": {
        "id": "TyybyztqI1Ii"
      },
      "source": [
        "df=pd.concat([allowdf,reset_df,df[df[\"Action\"]==\"deny\"],df[df[\"Action\"]==\"drop\"]],axis=0)"
      ],
      "execution_count": 65,
      "outputs": []
    },
    {
      "cell_type": "code",
      "metadata": {
        "colab": {
          "base_uri": "https://localhost:8080/"
        },
        "id": "sOxeHnPpI4S2",
        "outputId": "4ceb188a-382c-48fe-e7c9-cf6054262f6d"
      },
      "source": [
        "df[\"Action\"].value_counts()"
      ],
      "execution_count": 66,
      "outputs": [
        {
          "output_type": "execute_result",
          "data": {
            "text/plain": [
              "allow         15000\n",
              "deny          10368\n",
              "drop           8906\n",
              "reset-both     2000\n",
              "Name: Action, dtype: int64"
            ]
          },
          "metadata": {
            "tags": []
          },
          "execution_count": 66
        }
      ]
    },
    {
      "cell_type": "markdown",
      "metadata": {
        "id": "4wSSolf2NtdE"
      },
      "source": [
        "**LightGBM performed better than XGBoost and RandomForest in Cross Validation so using them**"
      ]
    },
    {
      "cell_type": "code",
      "metadata": {
        "id": "jORHcvSjHiKc"
      },
      "source": [
        "from lightgbm import LGBMClassifier"
      ],
      "execution_count": 67,
      "outputs": []
    },
    {
      "cell_type": "code",
      "metadata": {
        "colab": {
          "base_uri": "https://localhost:8080/"
        },
        "id": "xeEPa6BrH9pa",
        "outputId": "2e1de33a-c0ea-4d7d-942d-3374cd1d06d9"
      },
      "source": [
        "lgb=LGBMClassifier(objective=\"multi:softprob\",verbosity=1,n_estimators=200)\n",
        "lgb.fit(df.drop(\"Action\",axis=1),df[\"Action\"])"
      ],
      "execution_count": 68,
      "outputs": [
        {
          "output_type": "execute_result",
          "data": {
            "text/plain": [
              "LGBMClassifier(boosting_type='gbdt', class_weight=None, colsample_bytree=1.0,\n",
              "               importance_type='split', learning_rate=0.1, max_depth=-1,\n",
              "               min_child_samples=20, min_child_weight=0.001, min_split_gain=0.0,\n",
              "               n_estimators=200, n_jobs=-1, num_leaves=31,\n",
              "               objective='multi:softprob', random_state=None, reg_alpha=0.0,\n",
              "               reg_lambda=0.0, silent=True, subsample=1.0,\n",
              "               subsample_for_bin=200000, subsample_freq=0, verbosity=1)"
            ]
          },
          "metadata": {
            "tags": []
          },
          "execution_count": 68
        }
      ]
    },
    {
      "cell_type": "code",
      "metadata": {
        "id": "KcQQsYQ_IS6I"
      },
      "source": [
        "pred=lgb.predict(test)"
      ],
      "execution_count": 69,
      "outputs": []
    },
    {
      "cell_type": "code",
      "metadata": {
        "colab": {
          "base_uri": "https://localhost:8080/"
        },
        "id": "29VG5A8hIXrk",
        "outputId": "c659372a-3200-4243-9007-8bfb7c5e30fd"
      },
      "source": [
        "pd.Series(pred).value_counts()"
      ],
      "execution_count": 70,
      "outputs": [
        {
          "output_type": "execute_result",
          "data": {
            "text/plain": [
              "allow         11281\n",
              "deny           4478\n",
              "drop           3898\n",
              "reset-both        5\n",
              "dtype: int64"
            ]
          },
          "metadata": {
            "tags": []
          },
          "execution_count": 70
        }
      ]
    },
    {
      "cell_type": "code",
      "metadata": {
        "id": "5_vbGZxiIYrR"
      },
      "source": [
        "lgbundersampled=pd.DataFrame({\"ID\":test[\"ID\"],\"Action\":pred})\n",
        "lgbundersampled.to_csv(\"lgbundersampled.csv\",index=False)"
      ],
      "execution_count": 72,
      "outputs": []
    },
    {
      "cell_type": "code",
      "metadata": {
        "id": "6YLdqx92I_h4"
      },
      "source": [
        ""
      ],
      "execution_count": null,
      "outputs": []
    }
  ]
}